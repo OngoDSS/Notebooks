{
 "cells": [
  {
   "cell_type": "code",
   "execution_count": 29,
   "metadata": {
    "collapsed": true
   },
   "outputs": [],
   "source": [
    "import seaborn as sns\n",
    "import csv\n",
    "import numpy as np\n",
    "import pandas as pd\n",
    "import matplotlib.pyplot as plt\n",
    "%matplotlib inline\n",
    "sns.set()\n",
    "import datetime\n",
    "import warnings\n",
    "warnings.filterwarnings('ignore')"
   ]
  },
  {
   "cell_type": "code",
   "execution_count": 30,
   "metadata": {},
   "outputs": [
    {
     "data": {
      "text/plain": [
       "array(['00000000-56ff-538b-2223-e1800b5e3ddb',\n",
       "       '00000000-5851-ee08-eb34-e20acc5af74e',\n",
       "       'd145b032-b7a5-4fa8-9887-b46598f4683a',\n",
       "       '00000000-5951-4787-2497-ae32dc8d07d4',\n",
       "       '00000000-584e-1f39-bdee-d4102b989d01',\n",
       "       '00000000-584d-a4f0-bdee-d4102b989ce5'], dtype=object)"
      ]
     },
     "execution_count": 30,
     "metadata": {},
     "output_type": "execute_result"
    }
   ],
   "source": [
    "data_sample = pd.read_csv('20171016-210106-DataSample.csv',dtype={\"value\": float})\n",
    "data_sample2 = pd.read_csv('20171016-210304-DataSample.csv',dtype={\"value\": float})\n",
    "data_sample3 = pd.read_csv('20171016-210529-DataSample.csv',dtype={\"value\": float})\n",
    "data_sample4 = pd.read_csv('20171016-235959-DataSample.csv',dtype={\"value\": float})\n",
    "\n",
    "data_sample = data_sample.append([data_sample2,data_sample3,data_sample4])\n",
    "data_sample['startDate'] = pd.to_datetime(data_sample['startDate']) \n",
    "data_sample['owner'].replace('00000000-5854-8d6f-b8eb-cf14a0f795df','00000000-56ff-538b-2223-e1800b5e3ddb',inplace=True)\n",
    "data_sample['startDate'] = pd.to_datetime(data_sample['startDate'])\n",
    "data_sample['endDate'] = pd.to_datetime(data_sample['endDate'])\n",
    "\n",
    "\n",
    "to_tdelta = lambda row: row['endDate'] - row['startDate']\n",
    "data_sample['duration'] = data_sample.apply(to_tdelta, axis=1)\n",
    "data_sample['day_of_week'] = data_sample['startDate'].dt.dayofweek\n",
    "data_sample.head() #0 - 6 is monday - sunday \n",
    "data_sample['owner'].unique()"
   ]
  },
  {
   "cell_type": "markdown",
   "metadata": {},
   "source": [
    "# Do not run this cell. \n",
    "\n",
    "data_sample = pd.read_csv('20171016-210106-DataSample.csv',dtype={\"value\": str})\n",
    "data_sample2 = pd.read_csv('20171016-210304-DataSample.csv',dtype={\"value\": str})\n",
    "data_sample3 = pd.read_csv('20171016-210529-DataSample.csv',dtype={\"value\": str})\n",
    "data_sample4 = pd.read_csv('20171016-235959-DataSample.csv',dtype={\"value\": str})\n",
    "\n",
    "\n",
    "#data_sample2['value'] = pd.to_numeric(data_sample2['value'],errors='coerce')\n",
    "#data_sample['value'] = pd.to_numeric(data_sample['value'],errors='coerce')\n",
    "data_sample = data_sample.append(data_sample2)\n",
    "#data_sample['startDate'] = pd.to_datetime(data_sample['startDate'])\n",
    "data_sample['owner'].replace('00000000-5854-8d6f-b8eb-cf14a0f795df','00000000-56ff-538b-2223-e1800b5e3ddb',inplace=True)\n",
    "\n",
    "\n",
    "types = data_sample['type'].unique()\n",
    "types\n",
    "\n",
    "for t in types:\n",
    "    f = lambda x: float(x.replace(',',''))\n",
    "    # checks if the values contain decimal points, and uses a float conversion if so\n",
    "    for v in data_sample.loc[data_sample['type'] == t, 'value'].head():\n",
    "        if '.' in v:\n",
    "            f = lambda x: float(x.replace(',',''))\n",
    "            break\n",
    "    data_sample.loc[data_sample['type'] == t, 'value'] = data_sample.loc[data_sample['type'] == t, 'value'].map(f)\n",
    "for col in ['startDate', 'endDate', 'createdAt', 'updatedAt']:\n",
    "    data_sample[col] = pd.to_datetime(data_sample[col], format='%Y-%m-%d %X')\n",
    "to_tdelta = lambda row: row['endDate'] - row['startDate']\n",
    "data_sample['duration'] = data_sample.apply(to_tdelta, axis=1)\n",
    "data_sample['day_of_week'] = data_sample['startDate'].dt.dayofweek\n",
    "data_sample.head() #0 - 6 is monday - sunday "
   ]
  },
  {
   "cell_type": "markdown",
   "metadata": {},
   "source": [
    "# Sleep "
   ]
  },
  {
   "cell_type": "code",
   "execution_count": 31,
   "metadata": {
    "collapsed": true
   },
   "outputs": [],
   "source": [
    "#Sleep -Lucas \n",
    "    #How long are they sleeping per day, what day highest/lowest \n",
    "    #Disturbances during night\n",
    "    #Compared to national average\n",
    "    #Correlate amount of sleep with avg steps\n",
    "\n",
    "#Next Questions (Aydin as well)\n",
    "    #Differences in activity (steps,HR) on days with more/less than average sleep duration\n",
    "    #Differences in activity when number of disturbances is more/less than averages\n",
    "    #Include also, same as above, but for a whole standard deviation above/below the average. "
   ]
  },
  {
   "cell_type": "markdown",
   "metadata": {},
   "source": [
    "### put code here"
   ]
  },
  {
   "cell_type": "code",
   "execution_count": 32,
   "metadata": {},
   "outputs": [
    {
     "data": {
      "text/plain": [
       "<matplotlib.axes._subplots.AxesSubplot at 0x11c9a6828>"
      ]
     },
     "execution_count": 32,
     "metadata": {},
     "output_type": "execute_result"
    },
    {
     "data": {
      "image/png": "[encoded data removed]",
      "text/plain": [
       "<matplotlib.figure.Figure at 0x123188f28>"
      ]
     },
     "metadata": {},
     "output_type": "display_data"
    }
   ],
   "source": [
    "data_sample1 =  data_sample.copy()\n",
    "sleep = data_sample1[data_sample1.type == 'health-sleep'].drop(['_id', 'owner', 'source', 'sourceId', 'sourceName', 'value', 'content', 'originalData'], axis = 1)\n",
    "sleep.head(n = 5)\n",
    "data_sample1 = data_sample1.drop(['owner', 'source', 'sourceId', 'sourceName', 'content', 'originalData', 'createdAt', 'updatedAt'], axis = 1)\n",
    "data_sample1.head(n = 5)\n",
    "sleep_average = sleep.groupby('day_of_week').sum().drop(['type'], axis = 1)\n",
    "count = sleep.groupby('day_of_week').count().drop(['type', 'startDate', 'endDate', 'createdAt', 'updatedAt'], axis = 1)\n",
    "count = count.rename(columns={'duration': 'numcount'})\n",
    "sleep_average.duration = [i.total_seconds() for i in sleep_average.duration]\n",
    "sleep_average.duration = sleep_average.duration / count.numcount\n",
    "sleep_average\n",
    "\n",
    "sleep_average.plot(kind = 'bar')"
   ]
  },
  {
   "cell_type": "markdown",
   "metadata": {
    "collapsed": true
   },
   "source": [
    "# Steps"
   ]
  },
  {
   "cell_type": "code",
   "execution_count": 33,
   "metadata": {
    "collapsed": true
   },
   "outputs": [],
   "source": [
    "#Steps - Matt\n",
    "    #What day do you step the most? Least? \n",
    "    #What time of day do you step the most? \n",
    "    #What is the correlation between steps and sleep?\n",
    "    #What is the correlation between avg steps and BMI/Weight/Heart Rate/Body Fat/ by months? \n",
    "    #On what days of the week is the user taking less steps than their average? Less than average of other users? \n",
    "     \n",
    "#Next - Matt\n",
    "    #Differences in other variables on days with more/extra sleep. Some questions to consider include\n",
    "    #'do days with more steps on average look like they have more sleep?' \n",
    "    #Look at data split between days with above/average amount of sleep. Also look at data that was one \n",
    "    #standard deviation above/below average amount of steps. \n",
    "    \n"
   ]
  },
  {
   "cell_type": "markdown",
   "metadata": {},
   "source": [
    "### code "
   ]
  },
  {
   "cell_type": "code",
   "execution_count": null,
   "metadata": {
    "collapsed": true
   },
   "outputs": [],
   "source": []
  },
  {
   "cell_type": "markdown",
   "metadata": {},
   "source": [
    "# Heart Rate"
   ]
  },
  {
   "cell_type": "code",
   "execution_count": null,
   "metadata": {
    "collapsed": true
   },
   "outputs": [],
   "source": [
    "#Heart-Rate - John\n",
    "    #Heart Rate over time. \n",
    "    #In the past 90 days, average heart rate rates\n",
    "    #Heart rate max/min past 90 days \n",
    "    #Is your heart rate lower/higher than the national average? \n",
    "    \n",
    "#Next Steps  \n",
    "    #Differences in activity (steps,HR) on days with more/less HR\n",
    "    #Include also, same as above, but for a whole standard deviation above/below the average. "
   ]
  },
  {
   "cell_type": "markdown",
   "metadata": {},
   "source": [
    "### code "
   ]
  },
  {
   "cell_type": "code",
   "execution_count": null,
   "metadata": {},
   "outputs": [],
   "source": [
    "heartrate_df = data_sample[data_sample['type'] == 'health-heart-rate']  \n",
    "heartrate_df.index = heartrate_df['startDate']\n",
    "national_avg_lower = 60\n",
    "national_avg_upper = 100\n",
    "\n",
    "#Heart Rate Over Time for Users\n",
    "\n",
    "heartrate_df['value'] = pd.Series(heartrate_df['value']).convert_objects(convert_numeric=True)\n",
    "heartrate_df.loc[:,['owner','value','startDate']].groupby(['owner','startDate']).mean().unstack(level=0).resample('M').mean().plot()   \n",
    "plt.axhline(y=national_avg_lower, color='g', linestyle='--')\n",
    "#plt.text(y=national_avg_lower,s='normal HR lower range',rotation=90,x=0)\n",
    "plt.axhline(y=national_avg_upper, color='g', linestyle='--')\n",
    "#plt.text(y=national_avg_upper,s='normal HR upper range',rotation=90,x=0)\n",
    "plt.legend(loc='center left', bbox_to_anchor=(1.0, 0.5))\n",
    "plt.xlabel('All Owners Monthly HR')\n",
    "\n",
    "\n",
    "#Heart Rate Since May \n",
    "May = pd.Timestamp('20170501')\n",
    "heartrate_df_jan = heartrate_df[heartrate_df['startDate'] > May]\n",
    "heartrate_df_jan.loc[:,['owner','value','startDate']].groupby(['owner','startDate']).mean().unstack(level=0).resample('2W').mean().plot()   \n",
    "plt.legend(loc='center left', bbox_to_anchor=(1.0, 0.5))\n",
    "plt.xlabel('BiWeekly HR Since May')\n",
    "\n",
    "heartrate_df_jan = heartrate_df[heartrate_df['startDate'] > May]\n",
    "heartrate_df_jan.loc[:,['owner','value','startDate']].groupby(['owner','startDate']).mean().unstack(level=0).resample('D').mean().plot()   \n",
    "plt.legend(loc='center left', bbox_to_anchor=(1.0, 0.5))\n",
    "plt.xlabel('Daily HR Since May')"
   ]
  },
  {
   "cell_type": "code",
   "execution_count": null,
   "metadata": {},
   "outputs": [],
   "source": [
    "#Looking @ Statistics in the Past 90 Days \n",
    "drange = datetime.datetime.today() - pd.Timedelta(days=90)\n",
    "heart_rate_90days = data_sample[(data_sample['type'] == 'health-heart-rate') & (data_sample['startDate'] > drange)]\n",
    "heart_rate_90days['value'] = pd.Series(heart_rate_90days['value']).convert_objects(convert_numeric=True)\n",
    "heart_rate_90days.reset_index()\n",
    "stats = heart_rate_90days.groupby('owner',as_index=False).agg({\n",
    "    'value':\n",
    "    {'HR sum':'sum',\n",
    "     'HR avg':'mean',\n",
    "     'HR max':'max',\n",
    "     'HR min':'min',\n",
    "     'HR count':'count',\n",
    "    'HR STD':'std'}})\n",
    "stats"
   ]
  },
  {
   "cell_type": "code",
   "execution_count": null,
   "metadata": {},
   "outputs": [],
   "source": [
    "#Individual Plotting & Information  \n",
    "heart_rate_90days = data_sample[(data_sample['type'] == 'health-heart-rate') & (data_sample['startDate'] > drange)]\n",
    "heart_rate_90days.index = heart_rate_90days['startDate']\n",
    "heart_rate_90days['value'] = pd.Series(heart_rate_90days['value']).convert_objects(convert_numeric=True)\n",
    "heart_rate_90days['ts'] = heart_rate_90days['startDate'].dt.values.astype(np.int64) #// 10 ** 9\n",
    "\n",
    "\n",
    "def HR_graph(owner): #punch in an owners id, will graph HR avg past 90 days\n",
    "    muj = heart_rate_90days[heart_rate_90days['owner'] == owner]\n",
    "    x = plt.scatter('ts', 'value', data=muj,c='value',cmap='viridis')\n",
    "    if owner in stats['owner'].unique():\n",
    "        plt.axhline(y=stats[stats['owner'] == owner]['value']['HR avg'].iloc[0],color='r',linestyle='--')\n",
    "        plt.ylabel('Average HR For this User')\n",
    "    plt.xlabel(owner + ' HR data')\n",
    "    plt.show()\n",
    "    return x\n",
    "\n",
    "\n",
    "for i in heart_rate_90days['owner'].unique():\n",
    "    HR_graph(i)"
   ]
  },
  {
   "cell_type": "code",
   "execution_count": null,
   "metadata": {},
   "outputs": [],
   "source": [
    "HR = data_sample[data_sample['type'] == 'health-heart-rate']\n",
    "def fifty(owner): #takes in owner, outputs two tables, one for when HR is above average, one for below \n",
    "    date_indexed = data_sample.copy()\n",
    "    date_indexed.index = date_indexed['startDate']\n",
    "    date_indexed['value'] = pd.Series(date_indexed['value']).convert_objects(convert_numeric=True)\n",
    "    date_indexed\n",
    "    date_indexed = date_indexed[date_indexed['owner'] == owner] #these two lines give us the original table, but resampled D for a user\n",
    "    date_indexed = date_indexed.loc[:,['type','value','startDate']].groupby(['type','startDate']).mean().unstack(level=0).resample('D').mean()   \n",
    "    date_indexed.columns = date_indexed.columns.droplevel()\n",
    "\n",
    "    avg = stats[stats['owner'] == owner]['value']['HR avg'].iloc[0]\n",
    "    above = date_indexed[date_indexed['health-heart-rate'] > avg]\n",
    "    below = date_indexed[date_indexed['health-heart-rate'] < avg]\n",
    "    \n",
    "    sns.lmplot('health-heart-rate','health-step-count',above)\n",
    "    \n",
    "    sns.lmplot('health-heart-rate','health-step-count',below)\n",
    "    \n",
    "    return\n",
    "\n",
    "\n",
    "#next steps, will look into the specific behavior when below,above average.    \n",
    "    \n",
    "fifty('00000000-584e-1f39-bdee-d4102b989d01')\n",
    "fifty('00000000-56ff-538b-2223-e1800b5e3ddb')\n"
   ]
  },
  {
   "cell_type": "markdown",
   "metadata": {},
   "source": [
    "# BMI/Body Fat/Weight"
   ]
  },
  {
   "cell_type": "code",
   "execution_count": 11,
   "metadata": {
    "collapsed": true
   },
   "outputs": [],
   "source": [
    "#Bmi/Body Fat/Weight -Luqmaan/Sebastian \n",
    "    #How has BMI \n",
    "    #BMI average versus others \n",
    "    #BMI rate of change compared to other people's rates of change \n",
    "    #Weight over time/lowest weight/highest weight \n",
    "    #biggest weight change in a month span \n",
    "    #Weight change correlated with avg steps. Does avg steps imply more weight loss?\n",
    "    \n",
    "#Next Steps \n",
    "    #When average weight change is negative/positive, what does other data look like. Meaning if user X \n",
    "    #lost 2 pounds in one month, what other activity was different, if any? \n",
    "    #Table with numbers and graphs. Focus on steps/sleeps. \n",
    "    #Do the same for the above, but look at when average weight change was a SD above/below the average.\n",
    "    #p.s. for rate of change you probably want to make another column that has the +/- from the last measurement.\n",
    "    #for that user. "
   ]
  },
  {
   "cell_type": "markdown",
   "metadata": {},
   "source": [
    "### code "
   ]
  },
  {
   "cell_type": "code",
   "execution_count": null,
   "metadata": {
    "collapsed": true
   },
   "outputs": [],
   "source": [
    "\n",
    "    #BMI average versus others \n",
    "    #BMI rate of change compared to other people's rates of change \n",
    "    #Weight over time/lowest weight/highest weight \n",
    "    #biggest weight change in a month span \n",
    "    #Weight change correlated with avg steps. Does avg steps imply more weight loss?\n",
    "    \n",
    "#Next Steps "
   ]
  },
  {
   "cell_type": "code",
   "execution_count": null,
   "metadata": {
    "collapsed": true
   },
   "outputs": [],
   "source": []
  },
  {
   "cell_type": "code",
   "execution_count": null,
   "metadata": {
    "collapsed": true
   },
   "outputs": [],
   "source": []
  }
 ],
 "metadata": {
  "kernelspec": {
   "display_name": "Python 3",
   "language": "python",
   "name": "python3"
  },
  "language_info": {
   "codemirror_mode": {
    "name": "ipython",
    "version": 3
   },
   "file_extension": ".py",
   "mimetype": "text/x-python",
   "name": "python",
   "nbconvert_exporter": "python",
   "pygments_lexer": "ipython3",
   "version": "3.6.1"
  }
 },
 "nbformat": 4,
 "nbformat_minor": 2
}
