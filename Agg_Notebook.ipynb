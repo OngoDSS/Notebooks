{
 "cells": [
  {
   "cell_type": "code",
   "execution_count": 1,
   "metadata": {
    "collapsed": true
   },
   "outputs": [],
   "source": [
    "import seaborn as sns\n",
    "import csv\n",
    "import numpy as np\n",
    "import pandas as pd\n",
    "import matplotlib.pyplot as plt\n",
    "%matplotlib inline\n",
    "sns.set()\n",
    "import datetime\n"
   ]
  },
  {
   "cell_type": "code",
   "execution_count": 59,
   "metadata": {},
   "outputs": [
    {
     "data": {
      "text/html": [
       "<div>\n",
       "<style>\n",
       "    .dataframe thead tr:only-child th {\n",
       "        text-align: right;\n",
       "    }\n",
       "\n",
       "    .dataframe thead th {\n",
       "        text-align: left;\n",
       "    }\n",
       "\n",
       "    .dataframe tbody tr th {\n",
       "        vertical-align: top;\n",
       "    }\n",
       "</style>\n",
       "<table border=\"1\" class=\"dataframe\">\n",
       "  <thead>\n",
       "    <tr style=\"text-align: right;\">\n",
       "      <th></th>\n",
       "      <th>_id</th>\n",
       "      <th>owner</th>\n",
       "      <th>source</th>\n",
       "      <th>sourceId</th>\n",
       "      <th>sourceName</th>\n",
       "      <th>type</th>\n",
       "      <th>startDate</th>\n",
       "      <th>endDate</th>\n",
       "      <th>value</th>\n",
       "      <th>content</th>\n",
       "      <th>originalData</th>\n",
       "      <th>createdAt</th>\n",
       "      <th>updatedAt</th>\n",
       "      <th>duration</th>\n",
       "      <th>day_of_week</th>\n",
       "    </tr>\n",
       "  </thead>\n",
       "  <tbody>\n",
       "    <tr>\n",
       "      <th>0</th>\n",
       "      <td>1ff0fb89-6e1b-4601-84d0-98c79fdc5f2e</td>\n",
       "      <td>00000000-56ff-538b-2223-e1800b5e3ddb</td>\n",
       "      <td>healthkit:com.withings.wiScaleNG</td>\n",
       "      <td>A1DB680E-F9C4-4FA4-8818-1D35E398B5F0</td>\n",
       "      <td>Health Mate</td>\n",
       "      <td>health-bmi</td>\n",
       "      <td>2014-08-27 21:41:23</td>\n",
       "      <td>2014-08-27 21:41:23</td>\n",
       "      <td>26.7387</td>\n",
       "      <td>NaN</td>\n",
       "      <td>NaN</td>\n",
       "      <td>2017-08-31 11:20:49</td>\n",
       "      <td>2017-08-31 11:20:49</td>\n",
       "      <td>0 days</td>\n",
       "      <td>2</td>\n",
       "    </tr>\n",
       "    <tr>\n",
       "      <th>1</th>\n",
       "      <td>78219621-1da4-4e3b-87bc-f4885718c63f</td>\n",
       "      <td>00000000-56ff-538b-2223-e1800b5e3ddb</td>\n",
       "      <td>healthkit:com.withings.wiScaleNG</td>\n",
       "      <td>2030515A-1C70-40F3-8470-BDE99ABFC906</td>\n",
       "      <td>Health Mate</td>\n",
       "      <td>health-weight</td>\n",
       "      <td>2014-08-27 21:41:23</td>\n",
       "      <td>2014-08-27 21:41:23</td>\n",
       "      <td>71.042</td>\n",
       "      <td>NaN</td>\n",
       "      <td>NaN</td>\n",
       "      <td>2017-08-31 11:20:58</td>\n",
       "      <td>2017-08-31 11:20:58</td>\n",
       "      <td>0 days</td>\n",
       "      <td>2</td>\n",
       "    </tr>\n",
       "    <tr>\n",
       "      <th>2</th>\n",
       "      <td>2d917e7e-0844-4f52-b15e-2a5346c96dda</td>\n",
       "      <td>00000000-56ff-538b-2223-e1800b5e3ddb</td>\n",
       "      <td>healthkit:com.withings.wiScaleNG</td>\n",
       "      <td>96D21A44-67D7-412D-BF3A-543819A8EBF0</td>\n",
       "      <td>Health Mate</td>\n",
       "      <td>health-bmi</td>\n",
       "      <td>2014-08-28 06:24:53</td>\n",
       "      <td>2014-08-28 06:24:53</td>\n",
       "      <td>26.5866</td>\n",
       "      <td>NaN</td>\n",
       "      <td>NaN</td>\n",
       "      <td>2017-08-31 11:20:49</td>\n",
       "      <td>2017-08-31 11:20:49</td>\n",
       "      <td>0 days</td>\n",
       "      <td>3</td>\n",
       "    </tr>\n",
       "    <tr>\n",
       "      <th>3</th>\n",
       "      <td>ab800f4b-bef7-434e-8e57-e0fccc44bfb7</td>\n",
       "      <td>00000000-56ff-538b-2223-e1800b5e3ddb</td>\n",
       "      <td>healthkit:com.withings.wiScaleNG</td>\n",
       "      <td>5D73FD9D-17E1-480C-9235-3E5036503E6A</td>\n",
       "      <td>Health Mate</td>\n",
       "      <td>health-body-fat</td>\n",
       "      <td>2014-08-28 06:24:53</td>\n",
       "      <td>2014-08-28 06:24:53</td>\n",
       "      <td>0.258699</td>\n",
       "      <td>NaN</td>\n",
       "      <td>NaN</td>\n",
       "      <td>2017-08-31 11:20:53</td>\n",
       "      <td>2017-08-31 11:20:53</td>\n",
       "      <td>0 days</td>\n",
       "      <td>3</td>\n",
       "    </tr>\n",
       "    <tr>\n",
       "      <th>4</th>\n",
       "      <td>fb2a0865-17c3-4ac0-a782-749cc7befe12</td>\n",
       "      <td>00000000-56ff-538b-2223-e1800b5e3ddb</td>\n",
       "      <td>healthkit:com.withings.wiScaleNG</td>\n",
       "      <td>5A9AB03C-30C9-43B9-9742-02E237A6F36D</td>\n",
       "      <td>Health Mate</td>\n",
       "      <td>health-weight</td>\n",
       "      <td>2014-08-28 06:24:53</td>\n",
       "      <td>2014-08-28 06:24:53</td>\n",
       "      <td>70.638</td>\n",
       "      <td>NaN</td>\n",
       "      <td>NaN</td>\n",
       "      <td>2017-08-31 11:20:58</td>\n",
       "      <td>2017-08-31 11:20:58</td>\n",
       "      <td>0 days</td>\n",
       "      <td>3</td>\n",
       "    </tr>\n",
       "  </tbody>\n",
       "</table>\n",
       "</div>"
      ],
      "text/plain": [
       "                                    _id                                 owner  \\\n",
       "0  1ff0fb89-6e1b-4601-84d0-98c79fdc5f2e  00000000-56ff-538b-2223-e1800b5e3ddb   \n",
       "1  78219621-1da4-4e3b-87bc-f4885718c63f  00000000-56ff-538b-2223-e1800b5e3ddb   \n",
       "2  2d917e7e-0844-4f52-b15e-2a5346c96dda  00000000-56ff-538b-2223-e1800b5e3ddb   \n",
       "3  ab800f4b-bef7-434e-8e57-e0fccc44bfb7  00000000-56ff-538b-2223-e1800b5e3ddb   \n",
       "4  fb2a0865-17c3-4ac0-a782-749cc7befe12  00000000-56ff-538b-2223-e1800b5e3ddb   \n",
       "\n",
       "                             source                              sourceId  \\\n",
       "0  healthkit:com.withings.wiScaleNG  A1DB680E-F9C4-4FA4-8818-1D35E398B5F0   \n",
       "1  healthkit:com.withings.wiScaleNG  2030515A-1C70-40F3-8470-BDE99ABFC906   \n",
       "2  healthkit:com.withings.wiScaleNG  96D21A44-67D7-412D-BF3A-543819A8EBF0   \n",
       "3  healthkit:com.withings.wiScaleNG  5D73FD9D-17E1-480C-9235-3E5036503E6A   \n",
       "4  healthkit:com.withings.wiScaleNG  5A9AB03C-30C9-43B9-9742-02E237A6F36D   \n",
       "\n",
       "    sourceName             type           startDate             endDate  \\\n",
       "0  Health Mate       health-bmi 2014-08-27 21:41:23 2014-08-27 21:41:23   \n",
       "1  Health Mate    health-weight 2014-08-27 21:41:23 2014-08-27 21:41:23   \n",
       "2  Health Mate       health-bmi 2014-08-28 06:24:53 2014-08-28 06:24:53   \n",
       "3  Health Mate  health-body-fat 2014-08-28 06:24:53 2014-08-28 06:24:53   \n",
       "4  Health Mate    health-weight 2014-08-28 06:24:53 2014-08-28 06:24:53   \n",
       "\n",
       "      value  content  originalData           createdAt           updatedAt  \\\n",
       "0   26.7387      NaN           NaN 2017-08-31 11:20:49 2017-08-31 11:20:49   \n",
       "1    71.042      NaN           NaN 2017-08-31 11:20:58 2017-08-31 11:20:58   \n",
       "2   26.5866      NaN           NaN 2017-08-31 11:20:49 2017-08-31 11:20:49   \n",
       "3  0.258699      NaN           NaN 2017-08-31 11:20:53 2017-08-31 11:20:53   \n",
       "4    70.638      NaN           NaN 2017-08-31 11:20:58 2017-08-31 11:20:58   \n",
       "\n",
       "  duration  day_of_week  \n",
       "0   0 days            2  \n",
       "1   0 days            2  \n",
       "2   0 days            3  \n",
       "3   0 days            3  \n",
       "4   0 days            3  "
      ]
     },
     "execution_count": 59,
     "metadata": {},
     "output_type": "execute_result"
    }
   ],
   "source": [
    "data_sample = pd.read_csv('DataSample__201709211530.csv')\n",
    "data_sample2 = pd.read_csv('DataSample__201710061552.csv',dtype={\"value\": str})\n",
    "#data_sample2['value'] = pd.to_numeric(data_sample2['value'],errors='coerce')\n",
    "#data_sample['value'] = pd.to_numeric(data_sample['value'],errors='coerce')\n",
    "data_sample = data_sample.append(data_sample2)\n",
    "data_sample['startDate'] = pd.to_datetime(data_sample['startDate'])\n",
    "\n",
    "types = data_sample['type'].unique()\n",
    "types\n",
    "\n",
    "for t in types:\n",
    "    f = lambda x: float(x.replace(',',''))\n",
    "    # checks if the values contain decimal points, and uses a float conversion if so\n",
    "    for v in data_sample.loc[data_sample['type'] == t, 'value'].head():\n",
    "        if '.' in v:\n",
    "            f = lambda x: float(x.replace(',',''))\n",
    "            break\n",
    "    data_sample.loc[data_sample['type'] == t, 'value'] = data_sample.loc[data_sample['type'] == t, 'value'].map(f)\n",
    "for col in ['startDate', 'endDate', 'createdAt', 'updatedAt']:\n",
    "    data_sample[col] = pd.to_datetime(data_sample[col], format='%Y-%m-%d %X')\n",
    "to_tdelta = lambda row: row['endDate'] - row['startDate']\n",
    "data_sample['duration'] = data_sample.apply(to_tdelta, axis=1)\n",
    "data_sample['day_of_week'] = data_sample['startDate'].dt.dayofweek\n",
    "data_sample.head() #0 - 6 is monday - sunday "
   ]
  },
  {
   "cell_type": "code",
   "execution_count": null,
   "metadata": {
    "collapsed": true
   },
   "outputs": [],
   "source": [
    "#Sleep -Lucas \n",
    "    #How long are they sleeping per day, what day highest/lowest - Matt\n",
    "    #Disturbances during night - Matt \n",
    "    #Compared to national average - Matt\n",
    "    # Correlate amount of sleep with avg steps - Matt "
   ]
  },
  {
   "cell_type": "code",
   "execution_count": 63,
   "metadata": {},
   "outputs": [
    {
     "data": {
      "text/plain": [
       "84570"
      ]
     },
     "execution_count": 63,
     "metadata": {},
     "output_type": "execute_result"
    }
   ],
   "source": []
  },
  {
   "cell_type": "code",
   "execution_count": null,
   "metadata": {
    "collapsed": true
   },
   "outputs": [],
   "source": []
  },
  {
   "cell_type": "code",
   "execution_count": null,
   "metadata": {
    "collapsed": true
   },
   "outputs": [],
   "source": [
    "#Steps - Sebastian/Matt\n",
    "    #What day do you step the most? Least? \n",
    "    #What time of day do you step the most? \n",
    "    #What is the correlation between steps and sleep?\n",
    "    #What is the correlation between avg steps and BMI/Weight/Heart Rate/Body Fat/ by months? \n",
    "    #On what days of the week is the user taking less steps than their average? Less than average of other users? "
   ]
  },
  {
   "cell_type": "code",
   "execution_count": null,
   "metadata": {
    "collapsed": true
   },
   "outputs": [],
   "source": [
    "#Heart-Rate - John\n",
    "    #Heart Rate over time. \n",
    "    #In the past 90 days, average heart rate rates\n",
    "    #Heart rate max/min past 90 days \n",
    "    #Is your heart rate lower/higher than the national average? "
   ]
  },
  {
   "cell_type": "code",
   "execution_count": null,
   "metadata": {
    "collapsed": true
   },
   "outputs": [],
   "source": [
    "#Bmi/Body Fat/Weight -Luqmaan/Aydin \n",
    "    #How has BMI \n",
    "    #BMI average versus others \n",
    "    #BMI rate of change compared to other people's rates of change \n",
    "    #Weight over time/lowest weight/highest weight \n",
    "    #biggest weight change in a month span \n",
    "    #Weight change correlated with avg steps. Does avg steps imply more weight loss?"
   ]
  },
  {
   "cell_type": "code",
   "execution_count": null,
   "metadata": {
    "collapsed": true
   },
   "outputs": [],
   "source": []
  },
  {
   "cell_type": "code",
   "execution_count": null,
   "metadata": {
    "collapsed": true
   },
   "outputs": [],
   "source": []
  },
  {
   "cell_type": "code",
   "execution_count": null,
   "metadata": {
    "collapsed": true
   },
   "outputs": [],
   "source": []
  }
 ],
 "metadata": {
  "kernelspec": {
   "display_name": "Python 3",
   "language": "python",
   "name": "python3"
  },
  "language_info": {
   "codemirror_mode": {
    "name": "ipython",
    "version": 3
   },
   "file_extension": ".py",
   "mimetype": "text/x-python",
   "name": "python",
   "nbconvert_exporter": "python",
   "pygments_lexer": "ipython3",
   "version": "3.6.1"
  }
 },
 "nbformat": 4,
 "nbformat_minor": 2
}
