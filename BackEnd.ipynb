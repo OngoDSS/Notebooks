{
 "cells": [
  {
   "cell_type": "code",
   "execution_count": 1,
   "metadata": {
    "collapsed": true
   },
   "outputs": [],
   "source": [
    "import seaborn as sns\n",
    "import csv\n",
    "import numpy as np\n",
    "import pandas as pd\n",
    "import matplotlib.pyplot as plt\n",
    "%matplotlib inline\n",
    "sns.set()\n",
    "import datetime\n",
    "import warnings\n",
    "import time\n",
    "warnings.filterwarnings('ignore')"
   ]
  },
  {
   "cell_type": "markdown",
   "metadata": {},
   "source": [
    "# Back End Script \n",
    "\n",
    "### We are writing a python script to generate a table of insights for a particular user. This script will exist in one function, we can define functions within the function, but we want to streamline as much as possible for maximum efficiency. "
   ]
  },
  {
   "cell_type": "markdown",
   "metadata": {},
   "source": [
    "#### Insights To Generate  \n",
    "- steps by sleep \n",
    "- sleep by heartrate \n",
    "- "
   ]
  },
  {
   "cell_type": "markdown",
   "metadata": {},
   "source": [
    " _id: UUID (primary key)\n",
    "\n",
    "owner: UUID (reference to User)\n",
    "\n",
    "source: STRING - Describes where this insight came from. For example, insights created manually from the admin dashboard will have their source set as admin.\n",
    "\n",
    "category: STRING - indicates which category/vertical the insight belongs to\n",
    "\n",
    "type: STRING - A short identifier unique for each type of insight. Example: An insight recommending the user to take x steps to improve sleep might be identified by a type such as \"step-count:sleep:achieve-steps\".\n",
    "\n",
    "message: TEXT - A textual representation of the insight, to be used in places where we can't display rich media, such as notifications. Example: \"Get 2500 steps in by noon for a more restful sleep\".\n",
    "\n",
    "data: JSON - a JSON blob with detailed info on the insight. We make this a JSON field so that it can be easily extended in the future with new types of insights, without requiring changes to the DB schema.\n",
    "\n",
    "upvote: BOOLEAN - A boolean field that is set to true when the user marks this insight as \"useful\" or gives it a \"thumbs up\". Default to false.\n",
    "\n",
    "downvote: BOOLEAN - A boolean field that is set to true when the user marks this insight as \"not useful\" or gives it a \"thumbs down\". Default to false.\n",
    "\n",
    "\n",
    "For the initial version, the JSON structure of the data field will be relatively simple:\n",
    "\n",
    "{\n",
    "    \"message\": \"Get 2500 steps in by noon for a more restful sleep\",\n",
    "    \"metrics\": [\"step-count\", \"sleep\"],\n",
    "    \"explanation\": \"Science shows that getting physical activity and sunlight in the morning can help to keep your circadian rhythm in optimal shape. Your circadian rhythm is...\"\n",
    "}"
   ]
  },
  {
   "cell_type": "code",
   "execution_count": 26,
   "metadata": {},
   "outputs": [
    {
     "data": {
      "text/html": [
       "<div>\n",
       "<style>\n",
       "    .dataframe thead tr:only-child th {\n",
       "        text-align: right;\n",
       "    }\n",
       "\n",
       "    .dataframe thead th {\n",
       "        text-align: left;\n",
       "    }\n",
       "\n",
       "    .dataframe tbody tr th {\n",
       "        vertical-align: top;\n",
       "    }\n",
       "</style>\n",
       "<table border=\"1\" class=\"dataframe\">\n",
       "  <thead>\n",
       "    <tr style=\"text-align: right;\">\n",
       "      <th></th>\n",
       "      <th>_id</th>\n",
       "      <th>owner</th>\n",
       "      <th>source</th>\n",
       "      <th>category</th>\n",
       "      <th>type</th>\n",
       "      <th>message</th>\n",
       "      <th>data</th>\n",
       "      <th>upvote</th>\n",
       "      <th>downvote</th>\n",
       "    </tr>\n",
       "  </thead>\n",
       "  <tbody>\n",
       "  </tbody>\n",
       "</table>\n",
       "</div>"
      ],
      "text/plain": [
       "Empty DataFrame\n",
       "Columns: [_id, owner, source, category, type, message, data, upvote, downvote]\n",
       "Index: []"
      ]
     },
     "execution_count": 26,
     "metadata": {},
     "output_type": "execute_result"
    }
   ],
   "source": [
    "#This is what the table is going to look like. \n",
    "#There are nine categories. Above is a short description of each column. \n",
    "UserInsight = pd.DataFrame(columns=['_id','owner','source','category','type','message','data','upvote','downvote'])\n",
    "UserInsight"
   ]
  },
  {
   "cell_type": "code",
   "execution_count": 27,
   "metadata": {},
   "outputs": [
    {
     "data": {
      "text/html": [
       "<div>\n",
       "<style>\n",
       "    .dataframe thead tr:only-child th {\n",
       "        text-align: right;\n",
       "    }\n",
       "\n",
       "    .dataframe thead th {\n",
       "        text-align: left;\n",
       "    }\n",
       "\n",
       "    .dataframe tbody tr th {\n",
       "        vertical-align: top;\n",
       "    }\n",
       "</style>\n",
       "<table border=\"1\" class=\"dataframe\">\n",
       "  <thead>\n",
       "    <tr style=\"text-align: right;\">\n",
       "      <th></th>\n",
       "      <th>_id</th>\n",
       "      <th>owner</th>\n",
       "      <th>source</th>\n",
       "      <th>category</th>\n",
       "      <th>type</th>\n",
       "      <th>message</th>\n",
       "      <th>data</th>\n",
       "      <th>upvote</th>\n",
       "      <th>downvote</th>\n",
       "    </tr>\n",
       "  </thead>\n",
       "  <tbody>\n",
       "    <tr>\n",
       "      <th>0</th>\n",
       "      <td>000</td>\n",
       "      <td>John</td>\n",
       "      <td>Apple Watch</td>\n",
       "      <td>HeartRate</td>\n",
       "      <td>health-weight:heart-rate:positive</td>\n",
       "      <td>If you keep losing weight, your heart rate wil...</td>\n",
       "      <td>{'message': 'If you keep losing weight', 'expl...</td>\n",
       "      <td>N/A</td>\n",
       "      <td>N/A</td>\n",
       "    </tr>\n",
       "  </tbody>\n",
       "</table>\n",
       "</div>"
      ],
      "text/plain": [
       "   _id owner       source   category                               type  \\\n",
       "0  000  John  Apple Watch  HeartRate  health-weight:heart-rate:positive   \n",
       "\n",
       "                                             message  \\\n",
       "0  If you keep losing weight, your heart rate wil...   \n",
       "\n",
       "                                                data upvote downvote  \n",
       "0  {'message': 'If you keep losing weight', 'expl...    N/A      N/A  "
      ]
     },
     "execution_count": 27,
     "metadata": {},
     "output_type": "execute_result"
    }
   ],
   "source": [
    "#Example of how to insert into the table. \n",
    "\n",
    "blob = {\"message\":\"If you keep losing weight\",\"metrics\":'The correlated variables',\"explanation\":'Leave this'}\n",
    "example = ['000','John','Apple Watch','HeartRate','health-weight:heart-rate:positive','If you keep losing weight, your heart rate will drop',blob,'N/A','N/A']\n",
    "\n",
    "UserInsight.loc[len(UserInsight)] = example\n",
    "UserInsight"
   ]
  },
  {
   "cell_type": "markdown",
   "metadata": {},
   "source": [
    "### Function  "
   ]
  },
  {
   "cell_type": "code",
   "execution_count": 32,
   "metadata": {
    "collapsed": true
   },
   "outputs": [],
   "source": [
    "#We need to tweak our functions to create an array like example above ^ \n",
    "\n",
    "def UserInsightFunction(user_id,data_table):\n",
    "    UserInsight = pd.DataFrame(columns=['_id','owner','source','category','type','message','data','upvote','downvote'])\n",
    "    InsightTypes = []\n",
    "    \n",
    "    def CorrelationTable(): \n",
    "        #create table of all correlations in our data set for the user.\n",
    "        CorrelationTable = pd.DataFrame(columns=['Variable1','Variable2','Correlation Value','Last 30 Days','Last Week','Last 24 Hours'])\n",
    "        return\n",
    "    \n",
    "    def InsightCreator():\n",
    "        #This is where we want to create the insight arrays from the correlation table, and append to UserInsights\n",
    "        return\n",
    "    \n",
    "    \n",
    "    \n",
    "    return UserInsight"
   ]
  },
  {
   "cell_type": "code",
   "execution_count": null,
   "metadata": {
    "collapsed": true
   },
   "outputs": [],
   "source": []
  }
 ],
 "metadata": {
  "kernelspec": {
   "display_name": "Python 2",
   "language": "python",
   "name": "python2"
  },
  "language_info": {
   "codemirror_mode": {
    "name": "ipython",
    "version": 2
   },
   "file_extension": ".py",
   "mimetype": "text/x-python",
   "name": "python",
   "nbconvert_exporter": "python",
   "pygments_lexer": "ipython2",
   "version": "2.7.13"
  }
 },
 "nbformat": 4,
 "nbformat_minor": 2
}
