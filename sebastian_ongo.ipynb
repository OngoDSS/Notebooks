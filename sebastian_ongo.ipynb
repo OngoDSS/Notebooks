{
 "cells": [
  {
   "cell_type": "code",
   "execution_count": 19,
   "metadata": {
    "collapsed": true
   },
   "outputs": [],
   "source": [
    "import seaborn as sns\n",
    "import csv\n",
    "import numpy as np\n",
    "import pandas as pd\n",
    "import matplotlib.pyplot as plt\n",
    "from scipy import stats\n",
    "from sklearn import linear_model\n",
    "import itertools\n",
    "%matplotlib inline\n",
    "sns.set()"
   ]
  },
  {
   "cell_type": "code",
   "execution_count": 37,
   "metadata": {},
   "outputs": [
    {
     "data": {
      "text/html": [
       "<div>\n",
       "<style>\n",
       "    .dataframe thead tr:only-child th {\n",
       "        text-align: right;\n",
       "    }\n",
       "\n",
       "    .dataframe thead th {\n",
       "        text-align: left;\n",
       "    }\n",
       "\n",
       "    .dataframe tbody tr th {\n",
       "        vertical-align: top;\n",
       "    }\n",
       "</style>\n",
       "<table border=\"1\" class=\"dataframe\">\n",
       "  <thead>\n",
       "    <tr style=\"text-align: right;\">\n",
       "      <th></th>\n",
       "      <th>_id</th>\n",
       "      <th>owner</th>\n",
       "      <th>source</th>\n",
       "      <th>sourceId</th>\n",
       "      <th>sourceName</th>\n",
       "      <th>type</th>\n",
       "      <th>startDate</th>\n",
       "      <th>endDate</th>\n",
       "      <th>value</th>\n",
       "      <th>content</th>\n",
       "      <th>originalData</th>\n",
       "      <th>createdAt</th>\n",
       "      <th>updatedAt</th>\n",
       "      <th>duration</th>\n",
       "      <th>day_of_week</th>\n",
       "    </tr>\n",
       "  </thead>\n",
       "  <tbody>\n",
       "    <tr>\n",
       "      <th>0</th>\n",
       "      <td>1ff0fb89-6e1b-4601-84d0-98c79fdc5f2e</td>\n",
       "      <td>00000000-56ff-538b-2223-e1800b5e3ddb</td>\n",
       "      <td>healthkit:com.withings.wiScaleNG</td>\n",
       "      <td>A1DB680E-F9C4-4FA4-8818-1D35E398B5F0</td>\n",
       "      <td>Health Mate</td>\n",
       "      <td>health-bmi</td>\n",
       "      <td>2014-08-27 21:41:23</td>\n",
       "      <td>2014-08-27 21:41:23</td>\n",
       "      <td>26.7387</td>\n",
       "      <td>NaN</td>\n",
       "      <td>NaN</td>\n",
       "      <td>2017-08-31 11:20:49</td>\n",
       "      <td>2017-08-31 11:20:49</td>\n",
       "      <td>0 days</td>\n",
       "      <td>2</td>\n",
       "    </tr>\n",
       "    <tr>\n",
       "      <th>1</th>\n",
       "      <td>78219621-1da4-4e3b-87bc-f4885718c63f</td>\n",
       "      <td>00000000-56ff-538b-2223-e1800b5e3ddb</td>\n",
       "      <td>healthkit:com.withings.wiScaleNG</td>\n",
       "      <td>2030515A-1C70-40F3-8470-BDE99ABFC906</td>\n",
       "      <td>Health Mate</td>\n",
       "      <td>health-weight</td>\n",
       "      <td>2014-08-27 21:41:23</td>\n",
       "      <td>2014-08-27 21:41:23</td>\n",
       "      <td>71.042</td>\n",
       "      <td>NaN</td>\n",
       "      <td>NaN</td>\n",
       "      <td>2017-08-31 11:20:58</td>\n",
       "      <td>2017-08-31 11:20:58</td>\n",
       "      <td>0 days</td>\n",
       "      <td>2</td>\n",
       "    </tr>\n",
       "    <tr>\n",
       "      <th>2</th>\n",
       "      <td>2d917e7e-0844-4f52-b15e-2a5346c96dda</td>\n",
       "      <td>00000000-56ff-538b-2223-e1800b5e3ddb</td>\n",
       "      <td>healthkit:com.withings.wiScaleNG</td>\n",
       "      <td>96D21A44-67D7-412D-BF3A-543819A8EBF0</td>\n",
       "      <td>Health Mate</td>\n",
       "      <td>health-bmi</td>\n",
       "      <td>2014-08-28 06:24:53</td>\n",
       "      <td>2014-08-28 06:24:53</td>\n",
       "      <td>26.5866</td>\n",
       "      <td>NaN</td>\n",
       "      <td>NaN</td>\n",
       "      <td>2017-08-31 11:20:49</td>\n",
       "      <td>2017-08-31 11:20:49</td>\n",
       "      <td>0 days</td>\n",
       "      <td>3</td>\n",
       "    </tr>\n",
       "    <tr>\n",
       "      <th>3</th>\n",
       "      <td>ab800f4b-bef7-434e-8e57-e0fccc44bfb7</td>\n",
       "      <td>00000000-56ff-538b-2223-e1800b5e3ddb</td>\n",
       "      <td>healthkit:com.withings.wiScaleNG</td>\n",
       "      <td>5D73FD9D-17E1-480C-9235-3E5036503E6A</td>\n",
       "      <td>Health Mate</td>\n",
       "      <td>health-body-fat</td>\n",
       "      <td>2014-08-28 06:24:53</td>\n",
       "      <td>2014-08-28 06:24:53</td>\n",
       "      <td>0.258699</td>\n",
       "      <td>NaN</td>\n",
       "      <td>NaN</td>\n",
       "      <td>2017-08-31 11:20:53</td>\n",
       "      <td>2017-08-31 11:20:53</td>\n",
       "      <td>0 days</td>\n",
       "      <td>3</td>\n",
       "    </tr>\n",
       "    <tr>\n",
       "      <th>4</th>\n",
       "      <td>fb2a0865-17c3-4ac0-a782-749cc7befe12</td>\n",
       "      <td>00000000-56ff-538b-2223-e1800b5e3ddb</td>\n",
       "      <td>healthkit:com.withings.wiScaleNG</td>\n",
       "      <td>5A9AB03C-30C9-43B9-9742-02E237A6F36D</td>\n",
       "      <td>Health Mate</td>\n",
       "      <td>health-weight</td>\n",
       "      <td>2014-08-28 06:24:53</td>\n",
       "      <td>2014-08-28 06:24:53</td>\n",
       "      <td>70.638</td>\n",
       "      <td>NaN</td>\n",
       "      <td>NaN</td>\n",
       "      <td>2017-08-31 11:20:58</td>\n",
       "      <td>2017-08-31 11:20:58</td>\n",
       "      <td>0 days</td>\n",
       "      <td>3</td>\n",
       "    </tr>\n",
       "  </tbody>\n",
       "</table>\n",
       "</div>"
      ],
      "text/plain": [
       "                                    _id                                 owner  \\\n",
       "0  1ff0fb89-6e1b-4601-84d0-98c79fdc5f2e  00000000-56ff-538b-2223-e1800b5e3ddb   \n",
       "1  78219621-1da4-4e3b-87bc-f4885718c63f  00000000-56ff-538b-2223-e1800b5e3ddb   \n",
       "2  2d917e7e-0844-4f52-b15e-2a5346c96dda  00000000-56ff-538b-2223-e1800b5e3ddb   \n",
       "3  ab800f4b-bef7-434e-8e57-e0fccc44bfb7  00000000-56ff-538b-2223-e1800b5e3ddb   \n",
       "4  fb2a0865-17c3-4ac0-a782-749cc7befe12  00000000-56ff-538b-2223-e1800b5e3ddb   \n",
       "\n",
       "                             source                              sourceId  \\\n",
       "0  healthkit:com.withings.wiScaleNG  A1DB680E-F9C4-4FA4-8818-1D35E398B5F0   \n",
       "1  healthkit:com.withings.wiScaleNG  2030515A-1C70-40F3-8470-BDE99ABFC906   \n",
       "2  healthkit:com.withings.wiScaleNG  96D21A44-67D7-412D-BF3A-543819A8EBF0   \n",
       "3  healthkit:com.withings.wiScaleNG  5D73FD9D-17E1-480C-9235-3E5036503E6A   \n",
       "4  healthkit:com.withings.wiScaleNG  5A9AB03C-30C9-43B9-9742-02E237A6F36D   \n",
       "\n",
       "    sourceName             type           startDate             endDate  \\\n",
       "0  Health Mate       health-bmi 2014-08-27 21:41:23 2014-08-27 21:41:23   \n",
       "1  Health Mate    health-weight 2014-08-27 21:41:23 2014-08-27 21:41:23   \n",
       "2  Health Mate       health-bmi 2014-08-28 06:24:53 2014-08-28 06:24:53   \n",
       "3  Health Mate  health-body-fat 2014-08-28 06:24:53 2014-08-28 06:24:53   \n",
       "4  Health Mate    health-weight 2014-08-28 06:24:53 2014-08-28 06:24:53   \n",
       "\n",
       "      value  content  originalData           createdAt           updatedAt  \\\n",
       "0   26.7387      NaN           NaN 2017-08-31 11:20:49 2017-08-31 11:20:49   \n",
       "1    71.042      NaN           NaN 2017-08-31 11:20:58 2017-08-31 11:20:58   \n",
       "2   26.5866      NaN           NaN 2017-08-31 11:20:49 2017-08-31 11:20:49   \n",
       "3  0.258699      NaN           NaN 2017-08-31 11:20:53 2017-08-31 11:20:53   \n",
       "4    70.638      NaN           NaN 2017-08-31 11:20:58 2017-08-31 11:20:58   \n",
       "\n",
       "  duration  day_of_week  \n",
       "0   0 days            2  \n",
       "1   0 days            2  \n",
       "2   0 days            3  \n",
       "3   0 days            3  \n",
       "4   0 days            3  "
      ]
     },
     "execution_count": 37,
     "metadata": {},
     "output_type": "execute_result"
    }
   ],
   "source": [
    "data_sample = pd.read_csv('DataSample__201709211530.csv')\n",
    "data_sample2 = pd.read_csv('DataSample__201710061552.csv',dtype={\"value\": str})\n",
    "#data_sample2['value'] = pd.to_numeric(data_sample2['value'],errors='coerce')\n",
    "#data_sample['value'] = pd.to_numeric(data_sample['value'],errors='coerce')\n",
    "data_sample = data_sample.append(data_sample2)\n",
    "data_sample['startDate'] = pd.to_datetime(data_sample['startDate'])\n",
    "data_sample['owner'].replace('00000000-5854-8d6f-b8eb-cf14a0f795df','00000000-56ff-538b-2223-e1800b5e3ddb',inplace=True)\n",
    "\n",
    "\n",
    "types = data_sample['type'].unique()\n",
    "types\n",
    "\n",
    "for t in types:\n",
    "    f = lambda x: float(x.replace(',',''))\n",
    "    # checks if the values contain decimal points, and uses a float conversion if so\n",
    "    for v in data_sample.loc[data_sample['type'] == t, 'value'].head():\n",
    "        if '.' in v:\n",
    "            f = lambda x: float(x.replace(',',''))\n",
    "            break\n",
    "    data_sample.loc[data_sample['type'] == t, 'value'] = data_sample.loc[data_sample['type'] == t, 'value'].map(f)\n",
    "for col in ['startDate', 'endDate', 'createdAt', 'updatedAt']:\n",
    "    data_sample[col] = pd.to_datetime(data_sample[col], format='%Y-%m-%d %X')\n",
    "to_tdelta = lambda row: row['endDate'] - row['startDate']\n",
    "data_sample['duration'] = data_sample.apply(to_tdelta, axis=1)\n",
    "data_sample['day_of_week'] = data_sample['startDate'].dt.dayofweek\n",
    "data_sample.head() #0 - 6 is monday - sunday "
   ]
  },
  {
   "cell_type": "code",
   "execution_count": 21,
   "metadata": {},
   "outputs": [
    {
     "data": {
      "text/plain": [
       "pandas.core.series.Series"
      ]
     },
     "execution_count": 21,
     "metadata": {},
     "output_type": "execute_result"
    }
   ],
   "source": [
    "x1 = data_sample.type\n",
    "x2 = data_sample.value\n",
    "\n",
    "types = ['health-bmi','health-body-fat','health-heart-rate','health-sleep','health-weight', 'health-step-count']\n",
    "type(x1)"
   ]
  },
  {
   "cell_type": "code",
   "execution_count": null,
   "metadata": {
    "collapsed": true
   },
   "outputs": [],
   "source": []
  },
  {
   "cell_type": "code",
   "execution_count": 22,
   "metadata": {},
   "outputs": [
    {
     "name": "stderr",
     "output_type": "stream",
     "text": [
      "C:\\ProgramData\\Anaconda2\\lib\\site-packages\\ipykernel_launcher.py:12: SettingWithCopyWarning: \n",
      "A value is trying to be set on a copy of a slice from a DataFrame.\n",
      "Try using .loc[row_indexer,col_indexer] = value instead\n",
      "\n",
      "See the caveats in the documentation: http://pandas.pydata.org/pandas-docs/stable/indexing.html#indexing-view-versus-copy\n",
      "  if sys.path[0] == '':\n",
      "C:\\ProgramData\\Anaconda2\\lib\\site-packages\\ipykernel_launcher.py:17: SettingWithCopyWarning: \n",
      "A value is trying to be set on a copy of a slice from a DataFrame.\n",
      "Try using .loc[row_indexer,col_indexer] = value instead\n",
      "\n",
      "See the caveats in the documentation: http://pandas.pydata.org/pandas-docs/stable/indexing.html#indexing-view-versus-copy\n"
     ]
    },
    {
     "data": {
      "text/html": [
       "<div>\n",
       "<style>\n",
       "    .dataframe thead tr:only-child th {\n",
       "        text-align: right;\n",
       "    }\n",
       "\n",
       "    .dataframe thead th {\n",
       "        text-align: left;\n",
       "    }\n",
       "\n",
       "    .dataframe tbody tr th {\n",
       "        vertical-align: top;\n",
       "    }\n",
       "</style>\n",
       "<table border=\"1\" class=\"dataframe\">\n",
       "  <thead>\n",
       "    <tr style=\"text-align: right;\">\n",
       "      <th></th>\n",
       "      <th>bmi</th>\n",
       "      <th>bodyfat</th>\n",
       "    </tr>\n",
       "    <tr>\n",
       "      <th>startDate</th>\n",
       "      <th></th>\n",
       "      <th></th>\n",
       "    </tr>\n",
       "  </thead>\n",
       "  <tbody>\n",
       "    <tr>\n",
       "      <th>2013-11-25</th>\n",
       "      <td>27.188028</td>\n",
       "      <td>0.276388</td>\n",
       "    </tr>\n",
       "    <tr>\n",
       "      <th>2013-11-26</th>\n",
       "      <td>26.746608</td>\n",
       "      <td>0.277415</td>\n",
       "    </tr>\n",
       "    <tr>\n",
       "      <th>2013-11-27</th>\n",
       "      <td>NaN</td>\n",
       "      <td>NaN</td>\n",
       "    </tr>\n",
       "    <tr>\n",
       "      <th>2013-11-28</th>\n",
       "      <td>26.885394</td>\n",
       "      <td>0.285580</td>\n",
       "    </tr>\n",
       "    <tr>\n",
       "      <th>2013-11-29</th>\n",
       "      <td>26.455147</td>\n",
       "      <td>0.268143</td>\n",
       "    </tr>\n",
       "    <tr>\n",
       "      <th>2013-11-30</th>\n",
       "      <td>26.376778</td>\n",
       "      <td>0.274755</td>\n",
       "    </tr>\n",
       "    <tr>\n",
       "      <th>2013-12-01</th>\n",
       "      <td>26.747303</td>\n",
       "      <td>0.263562</td>\n",
       "    </tr>\n",
       "    <tr>\n",
       "      <th>2013-12-02</th>\n",
       "      <td>NaN</td>\n",
       "      <td>NaN</td>\n",
       "    </tr>\n",
       "    <tr>\n",
       "      <th>2013-12-03</th>\n",
       "      <td>NaN</td>\n",
       "      <td>NaN</td>\n",
       "    </tr>\n",
       "    <tr>\n",
       "      <th>2013-12-04</th>\n",
       "      <td>NaN</td>\n",
       "      <td>NaN</td>\n",
       "    </tr>\n",
       "    <tr>\n",
       "      <th>2013-12-05</th>\n",
       "      <td>26.148151</td>\n",
       "      <td>0.263705</td>\n",
       "    </tr>\n",
       "    <tr>\n",
       "      <th>2013-12-06</th>\n",
       "      <td>NaN</td>\n",
       "      <td>NaN</td>\n",
       "    </tr>\n",
       "    <tr>\n",
       "      <th>2013-12-07</th>\n",
       "      <td>NaN</td>\n",
       "      <td>NaN</td>\n",
       "    </tr>\n",
       "    <tr>\n",
       "      <th>2013-12-08</th>\n",
       "      <td>NaN</td>\n",
       "      <td>NaN</td>\n",
       "    </tr>\n",
       "    <tr>\n",
       "      <th>2013-12-09</th>\n",
       "      <td>NaN</td>\n",
       "      <td>NaN</td>\n",
       "    </tr>\n",
       "    <tr>\n",
       "      <th>2013-12-10</th>\n",
       "      <td>NaN</td>\n",
       "      <td>NaN</td>\n",
       "    </tr>\n",
       "    <tr>\n",
       "      <th>2013-12-11</th>\n",
       "      <td>NaN</td>\n",
       "      <td>NaN</td>\n",
       "    </tr>\n",
       "    <tr>\n",
       "      <th>2013-12-12</th>\n",
       "      <td>26.558027</td>\n",
       "      <td>0.268536</td>\n",
       "    </tr>\n",
       "    <tr>\n",
       "      <th>2013-12-13</th>\n",
       "      <td>NaN</td>\n",
       "      <td>NaN</td>\n",
       "    </tr>\n",
       "    <tr>\n",
       "      <th>2013-12-14</th>\n",
       "      <td>26.457102</td>\n",
       "      <td>0.268293</td>\n",
       "    </tr>\n",
       "    <tr>\n",
       "      <th>2013-12-15</th>\n",
       "      <td>26.594138</td>\n",
       "      <td>0.267957</td>\n",
       "    </tr>\n",
       "    <tr>\n",
       "      <th>2013-12-16</th>\n",
       "      <td>26.589200</td>\n",
       "      <td>0.270079</td>\n",
       "    </tr>\n",
       "    <tr>\n",
       "      <th>2013-12-17</th>\n",
       "      <td>26.580712</td>\n",
       "      <td>0.277779</td>\n",
       "    </tr>\n",
       "    <tr>\n",
       "      <th>2013-12-18</th>\n",
       "      <td>26.658337</td>\n",
       "      <td>0.272309</td>\n",
       "    </tr>\n",
       "    <tr>\n",
       "      <th>2013-12-19</th>\n",
       "      <td>26.333028</td>\n",
       "      <td>0.268759</td>\n",
       "    </tr>\n",
       "    <tr>\n",
       "      <th>2013-12-20</th>\n",
       "      <td>26.139200</td>\n",
       "      <td>0.259614</td>\n",
       "    </tr>\n",
       "    <tr>\n",
       "      <th>2013-12-21</th>\n",
       "      <td>26.078398</td>\n",
       "      <td>0.265456</td>\n",
       "    </tr>\n",
       "    <tr>\n",
       "      <th>2013-12-22</th>\n",
       "      <td>26.041672</td>\n",
       "      <td>0.244338</td>\n",
       "    </tr>\n",
       "    <tr>\n",
       "      <th>2013-12-23</th>\n",
       "      <td>26.209572</td>\n",
       "      <td>0.230290</td>\n",
       "    </tr>\n",
       "    <tr>\n",
       "      <th>2013-12-24</th>\n",
       "      <td>26.551084</td>\n",
       "      <td>0.270314</td>\n",
       "    </tr>\n",
       "    <tr>\n",
       "      <th>...</th>\n",
       "      <td>...</td>\n",
       "      <td>...</td>\n",
       "    </tr>\n",
       "    <tr>\n",
       "      <th>2017-09-07</th>\n",
       "      <td>26.787968</td>\n",
       "      <td>0.283237</td>\n",
       "    </tr>\n",
       "    <tr>\n",
       "      <th>2017-09-08</th>\n",
       "      <td>NaN</td>\n",
       "      <td>NaN</td>\n",
       "    </tr>\n",
       "    <tr>\n",
       "      <th>2017-09-09</th>\n",
       "      <td>26.829016</td>\n",
       "      <td>0.284794</td>\n",
       "    </tr>\n",
       "    <tr>\n",
       "      <th>2017-09-10</th>\n",
       "      <td>26.838583</td>\n",
       "      <td>0.275021</td>\n",
       "    </tr>\n",
       "    <tr>\n",
       "      <th>2017-09-11</th>\n",
       "      <td>26.886045</td>\n",
       "      <td>0.251486</td>\n",
       "    </tr>\n",
       "    <tr>\n",
       "      <th>2017-09-12</th>\n",
       "      <td>26.844448</td>\n",
       "      <td>0.280733</td>\n",
       "    </tr>\n",
       "    <tr>\n",
       "      <th>2017-09-13</th>\n",
       "      <td>26.718212</td>\n",
       "      <td>0.276064</td>\n",
       "    </tr>\n",
       "    <tr>\n",
       "      <th>2017-09-14</th>\n",
       "      <td>NaN</td>\n",
       "      <td>NaN</td>\n",
       "    </tr>\n",
       "    <tr>\n",
       "      <th>2017-09-15</th>\n",
       "      <td>26.365126</td>\n",
       "      <td>0.283671</td>\n",
       "    </tr>\n",
       "    <tr>\n",
       "      <th>2017-09-16</th>\n",
       "      <td>NaN</td>\n",
       "      <td>NaN</td>\n",
       "    </tr>\n",
       "    <tr>\n",
       "      <th>2017-09-17</th>\n",
       "      <td>26.622005</td>\n",
       "      <td>0.260165</td>\n",
       "    </tr>\n",
       "    <tr>\n",
       "      <th>2017-09-18</th>\n",
       "      <td>26.704450</td>\n",
       "      <td>0.255211</td>\n",
       "    </tr>\n",
       "    <tr>\n",
       "      <th>2017-09-19</th>\n",
       "      <td>26.824978</td>\n",
       "      <td>0.271526</td>\n",
       "    </tr>\n",
       "    <tr>\n",
       "      <th>2017-09-20</th>\n",
       "      <td>26.677473</td>\n",
       "      <td>0.277850</td>\n",
       "    </tr>\n",
       "    <tr>\n",
       "      <th>2017-09-21</th>\n",
       "      <td>26.648727</td>\n",
       "      <td>0.250484</td>\n",
       "    </tr>\n",
       "    <tr>\n",
       "      <th>2017-09-22</th>\n",
       "      <td>26.636985</td>\n",
       "      <td>0.268694</td>\n",
       "    </tr>\n",
       "    <tr>\n",
       "      <th>2017-09-23</th>\n",
       "      <td>26.914818</td>\n",
       "      <td>0.288611</td>\n",
       "    </tr>\n",
       "    <tr>\n",
       "      <th>2017-09-24</th>\n",
       "      <td>27.013582</td>\n",
       "      <td>0.272988</td>\n",
       "    </tr>\n",
       "    <tr>\n",
       "      <th>2017-09-25</th>\n",
       "      <td>26.742059</td>\n",
       "      <td>0.266663</td>\n",
       "    </tr>\n",
       "    <tr>\n",
       "      <th>2017-09-26</th>\n",
       "      <td>26.780867</td>\n",
       "      <td>0.287000</td>\n",
       "    </tr>\n",
       "    <tr>\n",
       "      <th>2017-09-27</th>\n",
       "      <td>26.671637</td>\n",
       "      <td>0.262533</td>\n",
       "    </tr>\n",
       "    <tr>\n",
       "      <th>2017-09-28</th>\n",
       "      <td>26.700143</td>\n",
       "      <td>0.261080</td>\n",
       "    </tr>\n",
       "    <tr>\n",
       "      <th>2017-09-29</th>\n",
       "      <td>26.797119</td>\n",
       "      <td>0.256908</td>\n",
       "    </tr>\n",
       "    <tr>\n",
       "      <th>2017-09-30</th>\n",
       "      <td>26.843214</td>\n",
       "      <td>0.267971</td>\n",
       "    </tr>\n",
       "    <tr>\n",
       "      <th>2017-10-01</th>\n",
       "      <td>27.386114</td>\n",
       "      <td>0.287972</td>\n",
       "    </tr>\n",
       "    <tr>\n",
       "      <th>2017-10-02</th>\n",
       "      <td>NaN</td>\n",
       "      <td>NaN</td>\n",
       "    </tr>\n",
       "    <tr>\n",
       "      <th>2017-10-03</th>\n",
       "      <td>26.640315</td>\n",
       "      <td>0.256967</td>\n",
       "    </tr>\n",
       "    <tr>\n",
       "      <th>2017-10-04</th>\n",
       "      <td>NaN</td>\n",
       "      <td>NaN</td>\n",
       "    </tr>\n",
       "    <tr>\n",
       "      <th>2017-10-05</th>\n",
       "      <td>26.221949</td>\n",
       "      <td>0.262354</td>\n",
       "    </tr>\n",
       "    <tr>\n",
       "      <th>2017-10-06</th>\n",
       "      <td>26.136101</td>\n",
       "      <td>0.247894</td>\n",
       "    </tr>\n",
       "  </tbody>\n",
       "</table>\n",
       "<p>1412 rows × 2 columns</p>\n",
       "</div>"
      ],
      "text/plain": [
       "                  bmi   bodyfat\n",
       "startDate                      \n",
       "2013-11-25  27.188028  0.276388\n",
       "2013-11-26  26.746608  0.277415\n",
       "2013-11-27        NaN       NaN\n",
       "2013-11-28  26.885394  0.285580\n",
       "2013-11-29  26.455147  0.268143\n",
       "2013-11-30  26.376778  0.274755\n",
       "2013-12-01  26.747303  0.263562\n",
       "2013-12-02        NaN       NaN\n",
       "2013-12-03        NaN       NaN\n",
       "2013-12-04        NaN       NaN\n",
       "2013-12-05  26.148151  0.263705\n",
       "2013-12-06        NaN       NaN\n",
       "2013-12-07        NaN       NaN\n",
       "2013-12-08        NaN       NaN\n",
       "2013-12-09        NaN       NaN\n",
       "2013-12-10        NaN       NaN\n",
       "2013-12-11        NaN       NaN\n",
       "2013-12-12  26.558027  0.268536\n",
       "2013-12-13        NaN       NaN\n",
       "2013-12-14  26.457102  0.268293\n",
       "2013-12-15  26.594138  0.267957\n",
       "2013-12-16  26.589200  0.270079\n",
       "2013-12-17  26.580712  0.277779\n",
       "2013-12-18  26.658337  0.272309\n",
       "2013-12-19  26.333028  0.268759\n",
       "2013-12-20  26.139200  0.259614\n",
       "2013-12-21  26.078398  0.265456\n",
       "2013-12-22  26.041672  0.244338\n",
       "2013-12-23  26.209572  0.230290\n",
       "2013-12-24  26.551084  0.270314\n",
       "...               ...       ...\n",
       "2017-09-07  26.787968  0.283237\n",
       "2017-09-08        NaN       NaN\n",
       "2017-09-09  26.829016  0.284794\n",
       "2017-09-10  26.838583  0.275021\n",
       "2017-09-11  26.886045  0.251486\n",
       "2017-09-12  26.844448  0.280733\n",
       "2017-09-13  26.718212  0.276064\n",
       "2017-09-14        NaN       NaN\n",
       "2017-09-15  26.365126  0.283671\n",
       "2017-09-16        NaN       NaN\n",
       "2017-09-17  26.622005  0.260165\n",
       "2017-09-18  26.704450  0.255211\n",
       "2017-09-19  26.824978  0.271526\n",
       "2017-09-20  26.677473  0.277850\n",
       "2017-09-21  26.648727  0.250484\n",
       "2017-09-22  26.636985  0.268694\n",
       "2017-09-23  26.914818  0.288611\n",
       "2017-09-24  27.013582  0.272988\n",
       "2017-09-25  26.742059  0.266663\n",
       "2017-09-26  26.780867  0.287000\n",
       "2017-09-27  26.671637  0.262533\n",
       "2017-09-28  26.700143  0.261080\n",
       "2017-09-29  26.797119  0.256908\n",
       "2017-09-30  26.843214  0.267971\n",
       "2017-10-01  27.386114  0.287972\n",
       "2017-10-02        NaN       NaN\n",
       "2017-10-03  26.640315  0.256967\n",
       "2017-10-04        NaN       NaN\n",
       "2017-10-05  26.221949  0.262354\n",
       "2017-10-06  26.136101  0.247894\n",
       "\n",
       "[1412 rows x 2 columns]"
      ]
     },
     "execution_count": 22,
     "metadata": {},
     "output_type": "execute_result"
    }
   ],
   "source": [
    "\n",
    "data_sample['startDate'] = pd.to_datetime(data_sample['startDate'])\n",
    "\n",
    "bmi = data_sample[data_sample['type'] == 'health-bmi']\n",
    "bodyfat = data_sample[data_sample['type'] == 'health-body-fat']\n",
    "\n",
    "\n",
    "bmi.index = bmi['startDate']\n",
    "bodyfat.index = bodyfat['startDate']\n",
    "\n",
    "\n",
    "bmi['value'] = pd.to_numeric(bmi['value'])\n",
    "bmi = bmi.loc[:,'value']\n",
    "bmi = bmi.resample('D').mean()\n",
    "\n",
    "\n",
    "bodyfat['value'] = pd.to_numeric(bodyfat['value'])\n",
    "bodyfat = bodyfat.loc[:,'value']\n",
    "bodyfat = bodyfat.resample('D').mean()\n",
    "\n",
    "bmi = bmi.to_frame('bmi')\n",
    "bmi['bodyfat'] = bodyfat\n",
    "\n",
    "bmi\n"
   ]
  },
  {
   "cell_type": "code",
   "execution_count": 23,
   "metadata": {},
   "outputs": [
    {
     "data": {
      "text/plain": [
       "0.30769084788819434"
      ]
     },
     "execution_count": 23,
     "metadata": {},
     "output_type": "execute_result"
    }
   ],
   "source": [
    "corr_linear = bmi['bmi'].corr(bmi['bodyfat'])\n",
    "corr_linear"
   ]
  },
  {
   "cell_type": "code",
   "execution_count": 24,
   "metadata": {},
   "outputs": [
    {
     "data": {
      "text/plain": [
       "0.3814626156706214"
      ]
     },
     "execution_count": 24,
     "metadata": {},
     "output_type": "execute_result"
    }
   ],
   "source": [
    "corr_nonlinear = bmi['bmi'].corr(bmi['bodyfat'], method='spearman')\n",
    "corr_nonlinear"
   ]
  },
  {
   "cell_type": "code",
   "execution_count": 25,
   "metadata": {
    "scrolled": true
   },
   "outputs": [
    {
     "data": {
      "text/plain": [
       "[<matplotlib.lines.Line2D at 0x14ed6860>]"
      ]
     },
     "execution_count": 25,
     "metadata": {},
     "output_type": "execute_result"
    },
    {
     "data": {
      "image/png": "[encoded data removed]",
      "text/plain": [
       "<matplotlib.figure.Figure at 0x12c05828>"
      ]
     },
     "metadata": {},
     "output_type": "display_data"
    }
   ],
   "source": [
    "bmi = bmi.dropna()\n",
    "x = bmi.bmi.values\n",
    "y = bmi.bodyfat.values\n",
    "x = x.reshape(len(x), 1)\n",
    "y = y.reshape(len(x), 1)\n",
    "\n",
    "regr = linear_model.LinearRegression()\n",
    "regr.fit(x, y)\n",
    "\n",
    "# plot it as in the example at http://scikit-learn.org/\n",
    "plt.scatter(x, y,  color='black')\n",
    "plt.plot(x, regr.predict(x), color='yellow', linewidth=2)"
   ]
  },
  {
   "cell_type": "code",
   "execution_count": 26,
   "metadata": {},
   "outputs": [
    {
     "name": "stdout",
     "output_type": "stream",
     "text": [
      "The r^2 value is 0.0946736578742\n"
     ]
    }
   ],
   "source": [
    "r_squared = regr.score(x, y)\n",
    "print (\"The r^2 value is {}\".format(r_squared))"
   ]
  },
  {
   "cell_type": "code",
   "execution_count": 27,
   "metadata": {
    "scrolled": true
   },
   "outputs": [
    {
     "name": "stdout",
     "output_type": "stream",
     "text": [
      "The r value for bmi to bodyfat is 0.307690847888 and p is 7.14940581065e-24\n"
     ]
    }
   ],
   "source": [
    "corr_info = stats.stats.pearsonr(x, y)\n",
    "r = corr_info[0][0]\n",
    "p = corr_info[1][0]\n",
    "print (\"The r value for bmi to bodyfat is {} and p is {}\".format(r, p))"
   ]
  },
  {
   "cell_type": "code",
   "execution_count": 28,
   "metadata": {},
   "outputs": [
    {
     "name": "stderr",
     "output_type": "stream",
     "text": [
      "C:\\ProgramData\\Anaconda2\\lib\\site-packages\\ipykernel_launcher.py:10: SettingWithCopyWarning: \n",
      "A value is trying to be set on a copy of a slice from a DataFrame.\n",
      "Try using .loc[row_indexer,col_indexer] = value instead\n",
      "\n",
      "See the caveats in the documentation: http://pandas.pydata.org/pandas-docs/stable/indexing.html#indexing-view-versus-copy\n",
      "  # Remove the CWD from sys.path while we load stuff.\n",
      "C:\\ProgramData\\Anaconda2\\lib\\site-packages\\ipykernel_launcher.py:15: SettingWithCopyWarning: \n",
      "A value is trying to be set on a copy of a slice from a DataFrame.\n",
      "Try using .loc[row_indexer,col_indexer] = value instead\n",
      "\n",
      "See the caveats in the documentation: http://pandas.pydata.org/pandas-docs/stable/indexing.html#indexing-view-versus-copy\n",
      "  from ipykernel import kernelapp as app\n"
     ]
    }
   ],
   "source": [
    "def prepare_table(x, y):\n",
    "    steps = data_sample[data_sample['type'] == x]\n",
    "    bodyfat = data_sample[data_sample['type'] == y]\n",
    "\n",
    "\n",
    "    steps.index = steps['startDate']\n",
    "    bodyfat.index = bodyfat['startDate']\n",
    "\n",
    "\n",
    "    steps['value'] = pd.to_numeric(steps['value'])\n",
    "    steps = steps.loc[:,'value']\n",
    "    steps = steps.resample('D').sum()\n",
    "\n",
    "\n",
    "    bodyfat['value'] = pd.to_numeric(bodyfat['value'])\n",
    "    bodyfat = bodyfat.loc[:,'value']\n",
    "    bodyfat = bodyfat.resample('D').mean()\n",
    "\n",
    "    steps = steps.to_frame('first')\n",
    "    steps['second'] = bodyfat\n",
    "    \n",
    "    return steps\n",
    "\n",
    "steps = prepare_table('health-step-count', 'health-body-fat')"
   ]
  },
  {
   "cell_type": "code",
   "execution_count": 29,
   "metadata": {},
   "outputs": [
    {
     "data": {
      "image/png": "[encoded data removed]",
      "text/plain": [
       "<matplotlib.figure.Figure at 0x14ed6198>"
      ]
     },
     "metadata": {},
     "output_type": "display_data"
    }
   ],
   "source": [
    "def plotter(steps):\n",
    "    steps = steps.dropna()\n",
    "    x = steps['first'].values\n",
    "    y = steps['second'].values\n",
    "    x = x.reshape(len(x), 1)\n",
    "    y = y.reshape(len(x), 1)\n",
    "\n",
    "    regr = linear_model.LinearRegression()\n",
    "    regr.fit(x, y)\n",
    "\n",
    "    # plot it as in the example at http://scikit-learn.org/\n",
    "    plt.scatter(x, y,  color='black')\n",
    "    plt.plot(x, regr.predict(x), color='yellow', linewidth=2)\n",
    "    \n",
    "    corr_info = stats.stats.pearsonr(x, y)\n",
    "    r = corr_info[0][0]\n",
    "    p = corr_info[1][0]\n",
    "    return r, p\n",
    "\n",
    "r, p = plotter(steps)\n"
   ]
  },
  {
   "cell_type": "code",
   "execution_count": 30,
   "metadata": {},
   "outputs": [
    {
     "name": "stdout",
     "output_type": "stream",
     "text": [
      "The r value for steps to bmi is 0.131541761339 and p is 0.352603988863\n"
     ]
    }
   ],
   "source": [
    "print (\"The r value for steps to bmi is {} and p is {}\".format(r, p))"
   ]
  },
  {
   "cell_type": "code",
   "execution_count": 31,
   "metadata": {},
   "outputs": [
    {
     "name": "stderr",
     "output_type": "stream",
     "text": [
      "C:\\ProgramData\\Anaconda2\\lib\\site-packages\\ipykernel_launcher.py:10: SettingWithCopyWarning: \n",
      "A value is trying to be set on a copy of a slice from a DataFrame.\n",
      "Try using .loc[row_indexer,col_indexer] = value instead\n",
      "\n",
      "See the caveats in the documentation: http://pandas.pydata.org/pandas-docs/stable/indexing.html#indexing-view-versus-copy\n",
      "  # Remove the CWD from sys.path while we load stuff.\n",
      "C:\\ProgramData\\Anaconda2\\lib\\site-packages\\ipykernel_launcher.py:15: SettingWithCopyWarning: \n",
      "A value is trying to be set on a copy of a slice from a DataFrame.\n",
      "Try using .loc[row_indexer,col_indexer] = value instead\n",
      "\n",
      "See the caveats in the documentation: http://pandas.pydata.org/pandas-docs/stable/indexing.html#indexing-view-versus-copy\n",
      "  from ipykernel import kernelapp as app\n"
     ]
    }
   ],
   "source": [
    "weight_to_steps = prepare_table('health-weight', 'health-step-count')"
   ]
  },
  {
   "cell_type": "code",
   "execution_count": 32,
   "metadata": {},
   "outputs": [
    {
     "data": {
      "image/png": "[encoded data removed]",
      "text/plain": [
       "<matplotlib.figure.Figure at 0xd515400>"
      ]
     },
     "metadata": {},
     "output_type": "display_data"
    }
   ],
   "source": [
    "r, p = plotter(weight_to_steps)"
   ]
  },
  {
   "cell_type": "code",
   "execution_count": 33,
   "metadata": {},
   "outputs": [
    {
     "name": "stdout",
     "output_type": "stream",
     "text": [
      "The r value for weight to steps is 0.0184726970442 and p is 0.895547790011\n"
     ]
    }
   ],
   "source": [
    "print (\"The r value for weight to steps is {} and p is {}\".format(r, p))"
   ]
  },
  {
   "cell_type": "code",
   "execution_count": 34,
   "metadata": {
    "collapsed": true
   },
   "outputs": [],
   "source": [
    "x = np.asarray([float(bmi['bmi'][i]) for i in range(len(bmi['bmi']))])\n",
    "y = np.asarray([float(bmi['bodyfat'][i]) for i in range(len(bmi['bodyfat']))])"
   ]
  },
  {
   "cell_type": "code",
   "execution_count": 35,
   "metadata": {
    "scrolled": true
   },
   "outputs": [
    {
     "data": {
      "text/plain": [
       "[<matplotlib.lines.Line2D at 0x14e956d8>]"
      ]
     },
     "execution_count": 35,
     "metadata": {},
     "output_type": "execute_result"
    },
    {
     "data": {
      "image/png": "[encoded data removed]",
      "text/plain": [
       "<matplotlib.figure.Figure at 0xbaee748>"
      ]
     },
     "metadata": {},
     "output_type": "display_data"
    }
   ],
   "source": [
    "#slope, intercept, r_value, p_value, std_err = stats.linregress(x,y)\n",
    "#line = slope*x+intercept\n",
    "fit = np.polyfit(x,y,1)\n",
    "fit_fn = np.poly1d(fit) \n",
    "# fit_fn is now a function which takes in x and returns an estimate for y\n",
    "\n",
    "plt.plot(x,y, 'go') #, x, fit_fn(x), '--k')\n",
    "#plt.xlim(0, 5)\n",
    "#plt.ylim(0, 12)"
   ]
  },
  {
   "cell_type": "code",
   "execution_count": 36,
   "metadata": {},
   "outputs": [
    {
     "name": "stderr",
     "output_type": "stream",
     "text": [
      "C:\\ProgramData\\Anaconda2\\lib\\site-packages\\ipykernel_launcher.py:10: SettingWithCopyWarning: \n",
      "A value is trying to be set on a copy of a slice from a DataFrame.\n",
      "Try using .loc[row_indexer,col_indexer] = value instead\n",
      "\n",
      "See the caveats in the documentation: http://pandas.pydata.org/pandas-docs/stable/indexing.html#indexing-view-versus-copy\n",
      "  # Remove the CWD from sys.path while we load stuff.\n",
      "C:\\ProgramData\\Anaconda2\\lib\\site-packages\\ipykernel_launcher.py:15: SettingWithCopyWarning: \n",
      "A value is trying to be set on a copy of a slice from a DataFrame.\n",
      "Try using .loc[row_indexer,col_indexer] = value instead\n",
      "\n",
      "See the caveats in the documentation: http://pandas.pydata.org/pandas-docs/stable/indexing.html#indexing-view-versus-copy\n",
      "  from ipykernel import kernelapp as app\n"
     ]
    },
    {
     "name": "stdout",
     "output_type": "stream",
     "text": [
      "The r and p values for health-bmi and health-body-fat are: r = -0.385090580706 and p = 1.66744543674e-37\n",
      "The r and p values for health-bmi and health-heart-rate are: r = -0.0460741599553 and p = 0.27339945658\n",
      "The r and p values for health-bmi and health-sleep are: r = 0.077669497768 and p = 0.23659474435\n",
      "The r and p values for health-bmi and health-weight are: r = -0.690381467239 and p = 5.54468049154e-147\n",
      "The r and p values for health-bmi and health-step-count are: r = 0.137255043326 and p = 0.331895772847\n",
      "The r and p values for health-body-fat and health-heart-rate are: r = -0.0405277372165 and p = 0.335395507821\n",
      "The r and p values for health-body-fat and health-sleep are: r = 0.0819676589067 and p = 0.214557020749\n",
      "The r and p values for health-body-fat and health-weight are: r = -0.703538483061 and p = 1.24337293809e-153\n",
      "The r and p values for health-body-fat and health-step-count are: r = 0.139517601995 and p = 0.323910179155\n",
      "The r and p values for health-heart-rate and health-sleep are: r = -0.512881255713 and p = 2.61684141472e-18\n",
      "The r and p values for health-heart-rate and health-weight are: r = -0.202768089002 and p = 1.10149601221e-06\n",
      "The r and p values for health-heart-rate and health-step-count are: r = -0.237076240432 and p = 0.0330888171178\n",
      "The r and p values for health-sleep and health-weight are: r = 0.121194767274 and p = 0.0597638852874\n",
      "The r and p values for health-sleep and health-step-count are: r = nan and p = 1.0\n",
      "The r and p values for health-weight and health-step-count are: r = 0.0184726970442 and p = 0.895547790011\n"
     ]
    },
    {
     "data": {
      "image/png": "[encoded data removed]",
      "text/plain": [
       "<matplotlib.figure.Figure at 0xfe8d240>"
      ]
     },
     "metadata": {},
     "output_type": "display_data"
    }
   ],
   "source": [
    "for i in itertools.combinations(types, 2):\n",
    "    t1 = i[0]\n",
    "    t2 = i[1]\n",
    "    a, b = plotter(prepare_table(t1, t2))\n",
    "    print(\"The r and p values for {} and {} are: r = {} and p = {}\".format(t1, t2, a, b))"
   ]
  },
  {
   "cell_type": "code",
   "execution_count": null,
   "metadata": {
    "collapsed": true
   },
   "outputs": [],
   "source": []
  },
  {
   "cell_type": "code",
   "execution_count": null,
   "metadata": {
    "collapsed": true
   },
   "outputs": [],
   "source": []
  }
 ],
 "metadata": {
  "kernelspec": {
   "display_name": "Python 2",
   "language": "python",
   "name": "python2"
  },
  "language_info": {
   "codemirror_mode": {
    "name": "ipython",
    "version": 2
   },
   "file_extension": ".py",
   "mimetype": "text/x-python",
   "name": "python",
   "nbconvert_exporter": "python",
   "pygments_lexer": "ipython2",
   "version": "2.7.13"
  }
 },
 "nbformat": 4,
 "nbformat_minor": 2
}
