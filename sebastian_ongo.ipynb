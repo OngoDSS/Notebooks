{
 "cells": [
  {
   "cell_type": "code",
   "execution_count": 58,
   "metadata": {
    "collapsed": true
   },
   "outputs": [],
   "source": [
    "import seaborn as sns\n",
    "import csv\n",
    "import numpy as np\n",
    "import pandas as pd\n",
    "import matplotlib.pyplot as plt\n",
    "from scipy import stats\n",
    "from sklearn import linear_model\n",
    "%matplotlib inline\n",
    "sns.set()"
   ]
  },
  {
   "cell_type": "code",
   "execution_count": 59,
   "metadata": {
    "collapsed": true
   },
   "outputs": [],
   "source": [
    "data_sample = pd.read_csv('C:/ongo/DataSample__201709211530.csv').drop(['_id','owner','source','createdAt','updatedAt'],axis=1)\n",
    "data_workout = pd.read_csv('C:/ongo/DataWorkoutRun__201709211532.csv')"
   ]
  },
  {
   "cell_type": "code",
   "execution_count": 60,
   "metadata": {},
   "outputs": [
    {
     "data": {
      "text/plain": [
       "pandas.core.series.Series"
      ]
     },
     "execution_count": 60,
     "metadata": {},
     "output_type": "execute_result"
    }
   ],
   "source": [
    "x1 = data_sample.type\n",
    "x2 = data_sample.value\n",
    "\n",
    "types = ['health-bmi','health-body-fat','health-heart-rate','health-sleep','health-weight']\n",
    "type(x1)"
   ]
  },
  {
   "cell_type": "code",
   "execution_count": null,
   "metadata": {
    "collapsed": true
   },
   "outputs": [],
   "source": []
  },
  {
   "cell_type": "code",
   "execution_count": 83,
   "metadata": {},
   "outputs": [
    {
     "name": "stderr",
     "output_type": "stream",
     "text": [
      "C:\\ProgramData\\Anaconda2\\lib\\site-packages\\ipykernel_launcher.py:12: SettingWithCopyWarning: \n",
      "A value is trying to be set on a copy of a slice from a DataFrame.\n",
      "Try using .loc[row_indexer,col_indexer] = value instead\n",
      "\n",
      "See the caveats in the documentation: http://pandas.pydata.org/pandas-docs/stable/indexing.html#indexing-view-versus-copy\n",
      "  if sys.path[0] == '':\n",
      "C:\\ProgramData\\Anaconda2\\lib\\site-packages\\ipykernel_launcher.py:17: SettingWithCopyWarning: \n",
      "A value is trying to be set on a copy of a slice from a DataFrame.\n",
      "Try using .loc[row_indexer,col_indexer] = value instead\n",
      "\n",
      "See the caveats in the documentation: http://pandas.pydata.org/pandas-docs/stable/indexing.html#indexing-view-versus-copy\n"
     ]
    },
    {
     "data": {
      "text/html": [
       "<div>\n",
       "<style>\n",
       "    .dataframe thead tr:only-child th {\n",
       "        text-align: right;\n",
       "    }\n",
       "\n",
       "    .dataframe thead th {\n",
       "        text-align: left;\n",
       "    }\n",
       "\n",
       "    .dataframe tbody tr th {\n",
       "        vertical-align: top;\n",
       "    }\n",
       "</style>\n",
       "<table border=\"1\" class=\"dataframe\">\n",
       "  <thead>\n",
       "    <tr style=\"text-align: right;\">\n",
       "      <th></th>\n",
       "      <th>bmi</th>\n",
       "      <th>bodyfat</th>\n",
       "    </tr>\n",
       "    <tr>\n",
       "      <th>startDate</th>\n",
       "      <th></th>\n",
       "      <th></th>\n",
       "    </tr>\n",
       "  </thead>\n",
       "  <tbody>\n",
       "    <tr>\n",
       "      <th>2014-08-27 21:41:23</th>\n",
       "      <td>26.738682</td>\n",
       "      <td>NaN</td>\n",
       "    </tr>\n",
       "    <tr>\n",
       "      <th>2014-08-28 06:24:53</th>\n",
       "      <td>26.586624</td>\n",
       "      <td>0.258699</td>\n",
       "    </tr>\n",
       "    <tr>\n",
       "      <th>2014-08-28 23:46:27</th>\n",
       "      <td>26.709702</td>\n",
       "      <td>0.249602</td>\n",
       "    </tr>\n",
       "    <tr>\n",
       "      <th>2014-08-29 06:45:05</th>\n",
       "      <td>26.557644</td>\n",
       "      <td>0.254801</td>\n",
       "    </tr>\n",
       "    <tr>\n",
       "      <th>2014-08-29 08:15:49</th>\n",
       "      <td>26.520008</td>\n",
       "      <td>0.250706</td>\n",
       "    </tr>\n",
       "    <tr>\n",
       "      <th>2014-08-29 21:40:15</th>\n",
       "      <td>26.665287</td>\n",
       "      <td>0.241563</td>\n",
       "    </tr>\n",
       "    <tr>\n",
       "      <th>2014-08-30 07:33:47</th>\n",
       "      <td>26.425158</td>\n",
       "      <td>0.250666</td>\n",
       "    </tr>\n",
       "    <tr>\n",
       "      <th>2014-08-31 03:03:05</th>\n",
       "      <td>27.069897</td>\n",
       "      <td>0.267832</td>\n",
       "    </tr>\n",
       "    <tr>\n",
       "      <th>2014-08-31 03:03:45</th>\n",
       "      <td>27.068392</td>\n",
       "      <td>0.270044</td>\n",
       "    </tr>\n",
       "    <tr>\n",
       "      <th>2014-08-31 10:34:54</th>\n",
       "      <td>26.950584</td>\n",
       "      <td>0.257803</td>\n",
       "    </tr>\n",
       "    <tr>\n",
       "      <th>2014-09-01 09:05:24</th>\n",
       "      <td>27.164368</td>\n",
       "      <td>0.259820</td>\n",
       "    </tr>\n",
       "    <tr>\n",
       "      <th>2014-09-01 09:06:14</th>\n",
       "      <td>27.162107</td>\n",
       "      <td>0.263736</td>\n",
       "    </tr>\n",
       "    <tr>\n",
       "      <th>2014-09-01 22:54:35</th>\n",
       "      <td>27.374386</td>\n",
       "      <td>0.260494</td>\n",
       "    </tr>\n",
       "    <tr>\n",
       "      <th>2014-09-01 22:55:42</th>\n",
       "      <td>26.979187</td>\n",
       "      <td>0.257349</td>\n",
       "    </tr>\n",
       "    <tr>\n",
       "      <th>2014-09-01 22:57:05</th>\n",
       "      <td>26.957357</td>\n",
       "      <td>0.260754</td>\n",
       "    </tr>\n",
       "    <tr>\n",
       "      <th>2014-09-01 23:03:06</th>\n",
       "      <td>26.999136</td>\n",
       "      <td>0.252753</td>\n",
       "    </tr>\n",
       "    <tr>\n",
       "      <th>2014-09-02 06:08:35</th>\n",
       "      <td>26.850468</td>\n",
       "      <td>0.252232</td>\n",
       "    </tr>\n",
       "    <tr>\n",
       "      <th>2014-09-02 18:54:26</th>\n",
       "      <td>27.558809</td>\n",
       "      <td>NaN</td>\n",
       "    </tr>\n",
       "    <tr>\n",
       "      <th>2014-09-02 23:32:31</th>\n",
       "      <td>26.900524</td>\n",
       "      <td>0.230622</td>\n",
       "    </tr>\n",
       "    <tr>\n",
       "      <th>2014-09-03 06:09:11</th>\n",
       "      <td>26.739813</td>\n",
       "      <td>0.241551</td>\n",
       "    </tr>\n",
       "    <tr>\n",
       "      <th>2014-09-03 20:57:03</th>\n",
       "      <td>26.626522</td>\n",
       "      <td>0.234239</td>\n",
       "    </tr>\n",
       "    <tr>\n",
       "      <th>2014-09-04 06:02:41</th>\n",
       "      <td>26.458281</td>\n",
       "      <td>0.240266</td>\n",
       "    </tr>\n",
       "    <tr>\n",
       "      <th>2014-09-05 01:06:36</th>\n",
       "      <td>26.747715</td>\n",
       "      <td>0.253764</td>\n",
       "    </tr>\n",
       "    <tr>\n",
       "      <th>2014-09-05 01:07:36</th>\n",
       "      <td>26.603188</td>\n",
       "      <td>0.255341</td>\n",
       "    </tr>\n",
       "    <tr>\n",
       "      <th>2014-09-05 06:09:02</th>\n",
       "      <td>26.495543</td>\n",
       "      <td>0.256591</td>\n",
       "    </tr>\n",
       "    <tr>\n",
       "      <th>2014-09-06 09:18:51</th>\n",
       "      <td>26.544846</td>\n",
       "      <td>0.252924</td>\n",
       "    </tr>\n",
       "    <tr>\n",
       "      <th>2014-09-07 08:12:51</th>\n",
       "      <td>26.668676</td>\n",
       "      <td>0.244919</td>\n",
       "    </tr>\n",
       "    <tr>\n",
       "      <th>2014-09-09 06:58:48</th>\n",
       "      <td>26.559902</td>\n",
       "      <td>0.258662</td>\n",
       "    </tr>\n",
       "    <tr>\n",
       "      <th>2014-09-10 07:20:41</th>\n",
       "      <td>26.356657</td>\n",
       "      <td>0.259157</td>\n",
       "    </tr>\n",
       "    <tr>\n",
       "      <th>2014-09-10 07:30:04</th>\n",
       "      <td>26.750727</td>\n",
       "      <td>NaN</td>\n",
       "    </tr>\n",
       "    <tr>\n",
       "      <th>...</th>\n",
       "      <td>...</td>\n",
       "      <td>...</td>\n",
       "    </tr>\n",
       "    <tr>\n",
       "      <th>2017-06-17 10:54:08</th>\n",
       "      <td>26.906172</td>\n",
       "      <td>0.262565</td>\n",
       "    </tr>\n",
       "    <tr>\n",
       "      <th>2017-06-21 07:49:37</th>\n",
       "      <td>26.979942</td>\n",
       "      <td>0.257551</td>\n",
       "    </tr>\n",
       "    <tr>\n",
       "      <th>2017-06-23 07:24:44</th>\n",
       "      <td>27.129362</td>\n",
       "      <td>0.000000</td>\n",
       "    </tr>\n",
       "    <tr>\n",
       "      <th>2017-06-28 07:23:13</th>\n",
       "      <td>26.758629</td>\n",
       "      <td>0.268542</td>\n",
       "    </tr>\n",
       "    <tr>\n",
       "      <th>2017-06-28 07:28:18</th>\n",
       "      <td>26.777451</td>\n",
       "      <td>0.276126</td>\n",
       "    </tr>\n",
       "    <tr>\n",
       "      <th>2017-06-29 08:36:15</th>\n",
       "      <td>26.656256</td>\n",
       "      <td>0.263403</td>\n",
       "    </tr>\n",
       "    <tr>\n",
       "      <th>2017-07-07 07:56:34</th>\n",
       "      <td>26.816591</td>\n",
       "      <td>0.266642</td>\n",
       "    </tr>\n",
       "    <tr>\n",
       "      <th>2017-07-08 08:38:36</th>\n",
       "      <td>27.281044</td>\n",
       "      <td>0.249410</td>\n",
       "    </tr>\n",
       "    <tr>\n",
       "      <th>2017-07-13 08:36:44</th>\n",
       "      <td>26.702551</td>\n",
       "      <td>0.263440</td>\n",
       "    </tr>\n",
       "    <tr>\n",
       "      <th>2017-07-14 09:20:08</th>\n",
       "      <td>26.835789</td>\n",
       "      <td>0.260491</td>\n",
       "    </tr>\n",
       "    <tr>\n",
       "      <th>2017-07-17 08:55:17</th>\n",
       "      <td>27.308897</td>\n",
       "      <td>0.263834</td>\n",
       "    </tr>\n",
       "    <tr>\n",
       "      <th>2017-07-18 07:59:15</th>\n",
       "      <td>27.295347</td>\n",
       "      <td>0.257801</td>\n",
       "    </tr>\n",
       "    <tr>\n",
       "      <th>2017-07-24 11:20:25</th>\n",
       "      <td>27.144794</td>\n",
       "      <td>0.258510</td>\n",
       "    </tr>\n",
       "    <tr>\n",
       "      <th>2017-07-25 09:33:46</th>\n",
       "      <td>27.294218</td>\n",
       "      <td>0.262969</td>\n",
       "    </tr>\n",
       "    <tr>\n",
       "      <th>2017-07-26 08:49:32</th>\n",
       "      <td>26.937788</td>\n",
       "      <td>0.263976</td>\n",
       "    </tr>\n",
       "    <tr>\n",
       "      <th>2017-07-27 08:55:33</th>\n",
       "      <td>26.883211</td>\n",
       "      <td>0.261067</td>\n",
       "    </tr>\n",
       "    <tr>\n",
       "      <th>2017-07-28 06:59:50</th>\n",
       "      <td>26.543718</td>\n",
       "      <td>0.266774</td>\n",
       "    </tr>\n",
       "    <tr>\n",
       "      <th>2017-07-29 10:01:04</th>\n",
       "      <td>26.683731</td>\n",
       "      <td>0.259239</td>\n",
       "    </tr>\n",
       "    <tr>\n",
       "      <th>2017-07-31 10:32:56</th>\n",
       "      <td>27.297604</td>\n",
       "      <td>0.253299</td>\n",
       "    </tr>\n",
       "    <tr>\n",
       "      <th>2017-08-01 08:25:24</th>\n",
       "      <td>26.982199</td>\n",
       "      <td>0.252717</td>\n",
       "    </tr>\n",
       "    <tr>\n",
       "      <th>2017-08-02 08:43:47</th>\n",
       "      <td>26.440212</td>\n",
       "      <td>0.258965</td>\n",
       "    </tr>\n",
       "    <tr>\n",
       "      <th>2017-08-14 10:07:10</th>\n",
       "      <td>27.142914</td>\n",
       "      <td>0.251179</td>\n",
       "    </tr>\n",
       "    <tr>\n",
       "      <th>2017-08-15 08:12:48</th>\n",
       "      <td>26.973166</td>\n",
       "      <td>0.259276</td>\n",
       "    </tr>\n",
       "    <tr>\n",
       "      <th>2017-08-23 08:25:19</th>\n",
       "      <td>27.106030</td>\n",
       "      <td>0.268502</td>\n",
       "    </tr>\n",
       "    <tr>\n",
       "      <th>2017-08-25 07:56:37</th>\n",
       "      <td>26.716099</td>\n",
       "      <td>0.263912</td>\n",
       "    </tr>\n",
       "    <tr>\n",
       "      <th>2017-09-11 08:47:57</th>\n",
       "      <td>26.823368</td>\n",
       "      <td>0.243872</td>\n",
       "    </tr>\n",
       "    <tr>\n",
       "      <th>2017-09-17 11:26:01</th>\n",
       "      <td>26.622005</td>\n",
       "      <td>0.260165</td>\n",
       "    </tr>\n",
       "    <tr>\n",
       "      <th>2017-09-18 09:45:28</th>\n",
       "      <td>26.647598</td>\n",
       "      <td>0.246638</td>\n",
       "    </tr>\n",
       "    <tr>\n",
       "      <th>2017-09-19 07:45:19</th>\n",
       "      <td>26.812830</td>\n",
       "      <td>0.264602</td>\n",
       "    </tr>\n",
       "    <tr>\n",
       "      <th>2017-09-21 07:45:50</th>\n",
       "      <td>26.648727</td>\n",
       "      <td>0.250484</td>\n",
       "    </tr>\n",
       "  </tbody>\n",
       "</table>\n",
       "<p>397 rows × 2 columns</p>\n",
       "</div>"
      ],
      "text/plain": [
       "                           bmi   bodyfat\n",
       "startDate                               \n",
       "2014-08-27 21:41:23  26.738682       NaN\n",
       "2014-08-28 06:24:53  26.586624  0.258699\n",
       "2014-08-28 23:46:27  26.709702  0.249602\n",
       "2014-08-29 06:45:05  26.557644  0.254801\n",
       "2014-08-29 08:15:49  26.520008  0.250706\n",
       "2014-08-29 21:40:15  26.665287  0.241563\n",
       "2014-08-30 07:33:47  26.425158  0.250666\n",
       "2014-08-31 03:03:05  27.069897  0.267832\n",
       "2014-08-31 03:03:45  27.068392  0.270044\n",
       "2014-08-31 10:34:54  26.950584  0.257803\n",
       "2014-09-01 09:05:24  27.164368  0.259820\n",
       "2014-09-01 09:06:14  27.162107  0.263736\n",
       "2014-09-01 22:54:35  27.374386  0.260494\n",
       "2014-09-01 22:55:42  26.979187  0.257349\n",
       "2014-09-01 22:57:05  26.957357  0.260754\n",
       "2014-09-01 23:03:06  26.999136  0.252753\n",
       "2014-09-02 06:08:35  26.850468  0.252232\n",
       "2014-09-02 18:54:26  27.558809       NaN\n",
       "2014-09-02 23:32:31  26.900524  0.230622\n",
       "2014-09-03 06:09:11  26.739813  0.241551\n",
       "2014-09-03 20:57:03  26.626522  0.234239\n",
       "2014-09-04 06:02:41  26.458281  0.240266\n",
       "2014-09-05 01:06:36  26.747715  0.253764\n",
       "2014-09-05 01:07:36  26.603188  0.255341\n",
       "2014-09-05 06:09:02  26.495543  0.256591\n",
       "2014-09-06 09:18:51  26.544846  0.252924\n",
       "2014-09-07 08:12:51  26.668676  0.244919\n",
       "2014-09-09 06:58:48  26.559902  0.258662\n",
       "2014-09-10 07:20:41  26.356657  0.259157\n",
       "2014-09-10 07:30:04  26.750727       NaN\n",
       "...                        ...       ...\n",
       "2017-06-17 10:54:08  26.906172  0.262565\n",
       "2017-06-21 07:49:37  26.979942  0.257551\n",
       "2017-06-23 07:24:44  27.129362  0.000000\n",
       "2017-06-28 07:23:13  26.758629  0.268542\n",
       "2017-06-28 07:28:18  26.777451  0.276126\n",
       "2017-06-29 08:36:15  26.656256  0.263403\n",
       "2017-07-07 07:56:34  26.816591  0.266642\n",
       "2017-07-08 08:38:36  27.281044  0.249410\n",
       "2017-07-13 08:36:44  26.702551  0.263440\n",
       "2017-07-14 09:20:08  26.835789  0.260491\n",
       "2017-07-17 08:55:17  27.308897  0.263834\n",
       "2017-07-18 07:59:15  27.295347  0.257801\n",
       "2017-07-24 11:20:25  27.144794  0.258510\n",
       "2017-07-25 09:33:46  27.294218  0.262969\n",
       "2017-07-26 08:49:32  26.937788  0.263976\n",
       "2017-07-27 08:55:33  26.883211  0.261067\n",
       "2017-07-28 06:59:50  26.543718  0.266774\n",
       "2017-07-29 10:01:04  26.683731  0.259239\n",
       "2017-07-31 10:32:56  27.297604  0.253299\n",
       "2017-08-01 08:25:24  26.982199  0.252717\n",
       "2017-08-02 08:43:47  26.440212  0.258965\n",
       "2017-08-14 10:07:10  27.142914  0.251179\n",
       "2017-08-15 08:12:48  26.973166  0.259276\n",
       "2017-08-23 08:25:19  27.106030  0.268502\n",
       "2017-08-25 07:56:37  26.716099  0.263912\n",
       "2017-09-11 08:47:57  26.823368  0.243872\n",
       "2017-09-17 11:26:01  26.622005  0.260165\n",
       "2017-09-18 09:45:28  26.647598  0.246638\n",
       "2017-09-19 07:45:19  26.812830  0.264602\n",
       "2017-09-21 07:45:50  26.648727  0.250484\n",
       "\n",
       "[397 rows x 2 columns]"
      ]
     },
     "execution_count": 83,
     "metadata": {},
     "output_type": "execute_result"
    }
   ],
   "source": [
    "\n",
    "data_sample['startDate'] = pd.to_datetime(data_sample['startDate'])\n",
    "\n",
    "bmi = data_sample[data_sample['type'] == 'health-bmi']\n",
    "bodyfat = data_sample[data_sample['type'] == 'health-body-fat']\n",
    "\n",
    "\n",
    "bmi.index = bmi['startDate']\n",
    "bodyfat.index = bodyfat['startDate']\n",
    "\n",
    "\n",
    "bmi['value'] = pd.to_numeric(bmi['value'])\n",
    "bmi = bmi.loc[:,'value']\n",
    "#bmi = bmi.resample('W').mean()\n",
    "\n",
    "\n",
    "bodyfat['value'] = pd.to_numeric(bodyfat['value'])\n",
    "bodyfat = bodyfat.loc[:,'value']\n",
    "#bodyfat = bodyfat.resample('W').mean()\n",
    "\n",
    "bmi = bmi.to_frame('bmi')\n",
    "bmi['bodyfat'] = bodyfat\n",
    "\n",
    "bmi\n"
   ]
  },
  {
   "cell_type": "code",
   "execution_count": 84,
   "metadata": {},
   "outputs": [
    {
     "data": {
      "text/plain": [
       "0.55495462844698362"
      ]
     },
     "execution_count": 84,
     "metadata": {},
     "output_type": "execute_result"
    }
   ],
   "source": [
    "corr_linear = bmi['bmi'].corr(bmi['bodyfat'])\n",
    "corr_linear"
   ]
  },
  {
   "cell_type": "code",
   "execution_count": 85,
   "metadata": {},
   "outputs": [
    {
     "data": {
      "text/plain": [
       "0.78647864920220523"
      ]
     },
     "execution_count": 85,
     "metadata": {},
     "output_type": "execute_result"
    }
   ],
   "source": [
    "corr_nonlinear = bmi['bmi'].corr(bmi['bodyfat'], method='spearman')\n",
    "corr_nonlinear"
   ]
  },
  {
   "cell_type": "code",
   "execution_count": 86,
   "metadata": {
    "scrolled": true
   },
   "outputs": [
    {
     "data": {
      "text/plain": [
       "[<matplotlib.lines.Line2D at 0x11ae93c8>]"
      ]
     },
     "execution_count": 86,
     "metadata": {},
     "output_type": "execute_result"
    },
    {
     "data": {
      "image/png": "[encoded data removed]",
      "text/plain": [
       "<matplotlib.figure.Figure at 0x1220c978>"
      ]
     },
     "metadata": {},
     "output_type": "display_data"
    }
   ],
   "source": [
    "bmi = bmi.dropna()\n",
    "x = bmi.bmi.values\n",
    "y = bmi.bodyfat.values\n",
    "x = x.reshape(len(x), 1)\n",
    "y = y.reshape(len(x), 1)\n",
    "\n",
    "regr = linear_model.LinearRegression()\n",
    "regr.fit(x, y)\n",
    "\n",
    "# plot it as in the example at http://scikit-learn.org/\n",
    "plt.scatter(x, y,  color='black')\n",
    "plt.plot(x, regr.predict(x), color='yellow', linewidth=2)"
   ]
  },
  {
   "cell_type": "code",
   "execution_count": 82,
   "metadata": {},
   "outputs": [
    {
     "data": {
      "text/plain": [
       "0.39181675482551759"
      ]
     },
     "execution_count": 82,
     "metadata": {},
     "output_type": "execute_result"
    }
   ],
   "source": [
    "regr.score(x, y)"
   ]
  },
  {
   "cell_type": "code",
   "execution_count": 98,
   "metadata": {},
   "outputs": [
    {
     "name": "stdout",
     "output_type": "stream",
     "text": [
      "The r value is 0.554954628447 and p is 4.12439738829e-31\n"
     ]
    }
   ],
   "source": [
    "corr_info = stats.stats.pearsonr(x, y)\n",
    "r = corr_info[0][0]\n",
    "p = corr_info[1][0]\n",
    "print (\"The r value is {} and p is {}\".format(r, p))"
   ]
  },
  {
   "cell_type": "code",
   "execution_count": 99,
   "metadata": {
    "collapsed": true
   },
   "outputs": [],
   "source": [
    "x = np.asarray([float(bmi['bmi'][i]) for i in range(len(bmi['bmi']))])\n",
    "y = np.asarray([float(bmi['bodyfat'][i]) for i in range(len(bmi['bodyfat']))])"
   ]
  },
  {
   "cell_type": "code",
   "execution_count": 100,
   "metadata": {
    "scrolled": true
   },
   "outputs": [
    {
     "data": {
      "text/plain": [
       "[<matplotlib.lines.Line2D at 0x126c9240>]"
      ]
     },
     "execution_count": 100,
     "metadata": {},
     "output_type": "execute_result"
    },
    {
     "data": {
      "image/png": "[encoded data removed]",
      "text/plain": [
       "<matplotlib.figure.Figure at 0x11b5add8>"
      ]
     },
     "metadata": {},
     "output_type": "display_data"
    }
   ],
   "source": [
    "#slope, intercept, r_value, p_value, std_err = stats.linregress(x,y)\n",
    "#line = slope*x+intercept\n",
    "fit = np.polyfit(x,y,1)\n",
    "fit_fn = np.poly1d(fit) \n",
    "# fit_fn is now a function which takes in x and returns an estimate for y\n",
    "\n",
    "plt.plot(x,y, 'go') #, x, fit_fn(x), '--k')\n",
    "#plt.xlim(0, 5)\n",
    "#plt.ylim(0, 12)"
   ]
  },
  {
   "cell_type": "code",
   "execution_count": null,
   "metadata": {
    "collapsed": true
   },
   "outputs": [],
   "source": []
  }
 ],
 "metadata": {
  "kernelspec": {
   "display_name": "Python 2",
   "language": "python",
   "name": "python2"
  },
  "language_info": {
   "codemirror_mode": {
    "name": "ipython",
    "version": 2
   },
   "file_extension": ".py",
   "mimetype": "text/x-python",
   "name": "python",
   "nbconvert_exporter": "python",
   "pygments_lexer": "ipython2",
   "version": "2.7.13"
  }
 },
 "nbformat": 4,
 "nbformat_minor": 2
}
