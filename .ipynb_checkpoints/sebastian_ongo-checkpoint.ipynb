{
 "cells": [
  {
   "cell_type": "code",
   "execution_count": null,
   "metadata": {
    "collapsed": true
   },
   "outputs": [],
   "source": [
    "import seaborn as sns\n",
    "import csv\n",
    "import numpy as np\n",
    "import pandas as pd\n",
    "import matplotlib.pyplot as plt\n",
    "from scipy import stats\n",
    "from sklearn import linear_model\n",
    "import itertools\n",
    "%matplotlib inline\n",
    "sns.set()"
   ]
  },
  {
   "cell_type": "code",
   "execution_count": null,
   "metadata": {},
   "outputs": [],
   "source": [
    "data_sample = pd.read_csv('DataSample__201709211530.csv')\n",
    "data_sample2 = pd.read_csv('DataSample__201710061552.csv',dtype={\"value\": str})\n",
    "#data_sample2['value'] = pd.to_numeric(data_sample2['value'],errors='coerce')\n",
    "#data_sample['value'] = pd.to_numeric(data_sample['value'],errors='coerce')\n",
    "data_sample = data_sample.append(data_sample2)\n",
    "data_sample['startDate'] = pd.to_datetime(data_sample['startDate'])\n",
    "data_sample['owner'].replace('00000000-5854-8d6f-b8eb-cf14a0f795df','00000000-56ff-538b-2223-e1800b5e3ddb',inplace=True)\n",
    "\n",
    "\n",
    "types = data_sample['type'].unique()\n",
    "types\n",
    "\n",
    "for t in types:\n",
    "    f = lambda x: float(x.replace(',',''))\n",
    "    # checks if the values contain decimal points, and uses a float conversion if so\n",
    "    for v in data_sample.loc[data_sample['type'] == t, 'value'].head():\n",
    "        if '.' in v:\n",
    "            f = lambda x: float(x.replace(',',''))\n",
    "            break\n",
    "    data_sample.loc[data_sample['type'] == t, 'value'] = data_sample.loc[data_sample['type'] == t, 'value'].map(f)\n",
    "for col in ['startDate', 'endDate', 'createdAt', 'updatedAt']:\n",
    "    data_sample[col] = pd.to_datetime(data_sample[col], format='%Y-%m-%d %X')\n",
    "to_tdelta = lambda row: row['endDate'] - row['startDate']\n",
    "data_sample['duration'] = data_sample.apply(to_tdelta, axis=1)\n",
    "data_sample['day_of_week'] = data_sample['startDate'].dt.dayofweek\n",
    "data_sample.head() #0 - 6 is monday - sunday "
   ]
  },
  {
   "cell_type": "code",
   "execution_count": 147,
   "metadata": {},
   "outputs": [
    {
     "data": {
      "text/plain": [
       "pandas.core.series.Series"
      ]
     },
     "execution_count": 147,
     "metadata": {},
     "output_type": "execute_result"
    }
   ],
   "source": [
    "x1 = data_sample.type\n",
    "x2 = data_sample.value\n",
    "\n",
    "types = ['health-bmi','health-body-fat','health-heart-rate','health-sleep','health-weight', 'health-step-count']\n",
    "type(x1)"
   ]
  },
  {
   "cell_type": "code",
   "execution_count": null,
   "metadata": {
    "collapsed": true
   },
   "outputs": [],
   "source": []
  },
  {
   "cell_type": "code",
   "execution_count": 148,
   "metadata": {},
   "outputs": [
    {
     "name": "stderr",
     "output_type": "stream",
     "text": [
      "C:\\ProgramData\\Anaconda2\\lib\\site-packages\\ipykernel_launcher.py:12: SettingWithCopyWarning: \n",
      "A value is trying to be set on a copy of a slice from a DataFrame.\n",
      "Try using .loc[row_indexer,col_indexer] = value instead\n",
      "\n",
      "See the caveats in the documentation: http://pandas.pydata.org/pandas-docs/stable/indexing.html#indexing-view-versus-copy\n",
      "  if sys.path[0] == '':\n",
      "C:\\ProgramData\\Anaconda2\\lib\\site-packages\\ipykernel_launcher.py:17: SettingWithCopyWarning: \n",
      "A value is trying to be set on a copy of a slice from a DataFrame.\n",
      "Try using .loc[row_indexer,col_indexer] = value instead\n",
      "\n",
      "See the caveats in the documentation: http://pandas.pydata.org/pandas-docs/stable/indexing.html#indexing-view-versus-copy\n"
     ]
    },
    {
     "data": {
      "text/html": [
       "<div>\n",
       "<style>\n",
       "    .dataframe thead tr:only-child th {\n",
       "        text-align: right;\n",
       "    }\n",
       "\n",
       "    .dataframe thead th {\n",
       "        text-align: left;\n",
       "    }\n",
       "\n",
       "    .dataframe tbody tr th {\n",
       "        vertical-align: top;\n",
       "    }\n",
       "</style>\n",
       "<table border=\"1\" class=\"dataframe\">\n",
       "  <thead>\n",
       "    <tr style=\"text-align: right;\">\n",
       "      <th></th>\n",
       "      <th>bmi</th>\n",
       "      <th>bodyfat</th>\n",
       "    </tr>\n",
       "    <tr>\n",
       "      <th>startDate</th>\n",
       "      <th></th>\n",
       "      <th></th>\n",
       "    </tr>\n",
       "  </thead>\n",
       "  <tbody>\n",
       "    <tr>\n",
       "      <th>2014-08-27</th>\n",
       "      <td>26.738682</td>\n",
       "      <td>NaN</td>\n",
       "    </tr>\n",
       "    <tr>\n",
       "      <th>2014-08-28</th>\n",
       "      <td>26.648163</td>\n",
       "      <td>0.254151</td>\n",
       "    </tr>\n",
       "    <tr>\n",
       "      <th>2014-08-29</th>\n",
       "      <td>26.580980</td>\n",
       "      <td>0.249023</td>\n",
       "    </tr>\n",
       "    <tr>\n",
       "      <th>2014-08-30</th>\n",
       "      <td>26.425158</td>\n",
       "      <td>0.250666</td>\n",
       "    </tr>\n",
       "    <tr>\n",
       "      <th>2014-08-31</th>\n",
       "      <td>27.029624</td>\n",
       "      <td>0.265226</td>\n",
       "    </tr>\n",
       "    <tr>\n",
       "      <th>2014-09-01</th>\n",
       "      <td>27.106090</td>\n",
       "      <td>0.259151</td>\n",
       "    </tr>\n",
       "    <tr>\n",
       "      <th>2014-09-02</th>\n",
       "      <td>27.103267</td>\n",
       "      <td>0.241427</td>\n",
       "    </tr>\n",
       "    <tr>\n",
       "      <th>2014-09-03</th>\n",
       "      <td>26.683167</td>\n",
       "      <td>0.237895</td>\n",
       "    </tr>\n",
       "    <tr>\n",
       "      <th>2014-09-04</th>\n",
       "      <td>26.458281</td>\n",
       "      <td>0.240266</td>\n",
       "    </tr>\n",
       "    <tr>\n",
       "      <th>2014-09-05</th>\n",
       "      <td>26.615482</td>\n",
       "      <td>0.255232</td>\n",
       "    </tr>\n",
       "    <tr>\n",
       "      <th>2014-09-06</th>\n",
       "      <td>26.544846</td>\n",
       "      <td>0.252924</td>\n",
       "    </tr>\n",
       "    <tr>\n",
       "      <th>2014-09-07</th>\n",
       "      <td>26.668676</td>\n",
       "      <td>0.244919</td>\n",
       "    </tr>\n",
       "    <tr>\n",
       "      <th>2014-09-08</th>\n",
       "      <td>NaN</td>\n",
       "      <td>NaN</td>\n",
       "    </tr>\n",
       "    <tr>\n",
       "      <th>2014-09-09</th>\n",
       "      <td>26.559902</td>\n",
       "      <td>0.258662</td>\n",
       "    </tr>\n",
       "    <tr>\n",
       "      <th>2014-09-10</th>\n",
       "      <td>26.553692</td>\n",
       "      <td>0.259157</td>\n",
       "    </tr>\n",
       "    <tr>\n",
       "      <th>2014-09-11</th>\n",
       "      <td>26.269716</td>\n",
       "      <td>0.252350</td>\n",
       "    </tr>\n",
       "    <tr>\n",
       "      <th>2014-09-12</th>\n",
       "      <td>26.528286</td>\n",
       "      <td>0.247734</td>\n",
       "    </tr>\n",
       "    <tr>\n",
       "      <th>2014-09-13</th>\n",
       "      <td>NaN</td>\n",
       "      <td>NaN</td>\n",
       "    </tr>\n",
       "    <tr>\n",
       "      <th>2014-09-14</th>\n",
       "      <td>NaN</td>\n",
       "      <td>NaN</td>\n",
       "    </tr>\n",
       "    <tr>\n",
       "      <th>2014-09-15</th>\n",
       "      <td>26.778202</td>\n",
       "      <td>0.250102</td>\n",
       "    </tr>\n",
       "    <tr>\n",
       "      <th>2014-09-16</th>\n",
       "      <td>26.579098</td>\n",
       "      <td>0.248364</td>\n",
       "    </tr>\n",
       "    <tr>\n",
       "      <th>2014-09-17</th>\n",
       "      <td>26.640448</td>\n",
       "      <td>0.245419</td>\n",
       "    </tr>\n",
       "    <tr>\n",
       "      <th>2014-09-18</th>\n",
       "      <td>26.634804</td>\n",
       "      <td>0.240963</td>\n",
       "    </tr>\n",
       "    <tr>\n",
       "      <th>2014-09-19</th>\n",
       "      <td>26.491777</td>\n",
       "      <td>0.254951</td>\n",
       "    </tr>\n",
       "    <tr>\n",
       "      <th>2014-09-20</th>\n",
       "      <td>NaN</td>\n",
       "      <td>NaN</td>\n",
       "    </tr>\n",
       "    <tr>\n",
       "      <th>2014-09-21</th>\n",
       "      <td>NaN</td>\n",
       "      <td>NaN</td>\n",
       "    </tr>\n",
       "    <tr>\n",
       "      <th>2014-09-22</th>\n",
       "      <td>26.798151</td>\n",
       "      <td>0.257725</td>\n",
       "    </tr>\n",
       "    <tr>\n",
       "      <th>2014-09-23</th>\n",
       "      <td>26.672817</td>\n",
       "      <td>0.245615</td>\n",
       "    </tr>\n",
       "    <tr>\n",
       "      <th>2014-09-24</th>\n",
       "      <td>26.843127</td>\n",
       "      <td>0.259586</td>\n",
       "    </tr>\n",
       "    <tr>\n",
       "      <th>2014-09-25</th>\n",
       "      <td>26.735672</td>\n",
       "      <td>0.260664</td>\n",
       "    </tr>\n",
       "    <tr>\n",
       "      <th>...</th>\n",
       "      <td>...</td>\n",
       "      <td>...</td>\n",
       "    </tr>\n",
       "    <tr>\n",
       "      <th>2017-08-23</th>\n",
       "      <td>27.106030</td>\n",
       "      <td>0.268502</td>\n",
       "    </tr>\n",
       "    <tr>\n",
       "      <th>2017-08-24</th>\n",
       "      <td>NaN</td>\n",
       "      <td>NaN</td>\n",
       "    </tr>\n",
       "    <tr>\n",
       "      <th>2017-08-25</th>\n",
       "      <td>26.716099</td>\n",
       "      <td>0.263912</td>\n",
       "    </tr>\n",
       "    <tr>\n",
       "      <th>2017-08-26</th>\n",
       "      <td>NaN</td>\n",
       "      <td>NaN</td>\n",
       "    </tr>\n",
       "    <tr>\n",
       "      <th>2017-08-27</th>\n",
       "      <td>NaN</td>\n",
       "      <td>NaN</td>\n",
       "    </tr>\n",
       "    <tr>\n",
       "      <th>2017-08-28</th>\n",
       "      <td>NaN</td>\n",
       "      <td>NaN</td>\n",
       "    </tr>\n",
       "    <tr>\n",
       "      <th>2017-08-29</th>\n",
       "      <td>NaN</td>\n",
       "      <td>NaN</td>\n",
       "    </tr>\n",
       "    <tr>\n",
       "      <th>2017-08-30</th>\n",
       "      <td>NaN</td>\n",
       "      <td>NaN</td>\n",
       "    </tr>\n",
       "    <tr>\n",
       "      <th>2017-08-31</th>\n",
       "      <td>NaN</td>\n",
       "      <td>NaN</td>\n",
       "    </tr>\n",
       "    <tr>\n",
       "      <th>2017-09-01</th>\n",
       "      <td>NaN</td>\n",
       "      <td>NaN</td>\n",
       "    </tr>\n",
       "    <tr>\n",
       "      <th>2017-09-02</th>\n",
       "      <td>NaN</td>\n",
       "      <td>NaN</td>\n",
       "    </tr>\n",
       "    <tr>\n",
       "      <th>2017-09-03</th>\n",
       "      <td>NaN</td>\n",
       "      <td>NaN</td>\n",
       "    </tr>\n",
       "    <tr>\n",
       "      <th>2017-09-04</th>\n",
       "      <td>NaN</td>\n",
       "      <td>NaN</td>\n",
       "    </tr>\n",
       "    <tr>\n",
       "      <th>2017-09-05</th>\n",
       "      <td>NaN</td>\n",
       "      <td>NaN</td>\n",
       "    </tr>\n",
       "    <tr>\n",
       "      <th>2017-09-06</th>\n",
       "      <td>NaN</td>\n",
       "      <td>NaN</td>\n",
       "    </tr>\n",
       "    <tr>\n",
       "      <th>2017-09-07</th>\n",
       "      <td>NaN</td>\n",
       "      <td>NaN</td>\n",
       "    </tr>\n",
       "    <tr>\n",
       "      <th>2017-09-08</th>\n",
       "      <td>NaN</td>\n",
       "      <td>NaN</td>\n",
       "    </tr>\n",
       "    <tr>\n",
       "      <th>2017-09-09</th>\n",
       "      <td>NaN</td>\n",
       "      <td>NaN</td>\n",
       "    </tr>\n",
       "    <tr>\n",
       "      <th>2017-09-10</th>\n",
       "      <td>NaN</td>\n",
       "      <td>NaN</td>\n",
       "    </tr>\n",
       "    <tr>\n",
       "      <th>2017-09-11</th>\n",
       "      <td>26.823368</td>\n",
       "      <td>0.243872</td>\n",
       "    </tr>\n",
       "    <tr>\n",
       "      <th>2017-09-12</th>\n",
       "      <td>NaN</td>\n",
       "      <td>NaN</td>\n",
       "    </tr>\n",
       "    <tr>\n",
       "      <th>2017-09-13</th>\n",
       "      <td>NaN</td>\n",
       "      <td>NaN</td>\n",
       "    </tr>\n",
       "    <tr>\n",
       "      <th>2017-09-14</th>\n",
       "      <td>NaN</td>\n",
       "      <td>NaN</td>\n",
       "    </tr>\n",
       "    <tr>\n",
       "      <th>2017-09-15</th>\n",
       "      <td>NaN</td>\n",
       "      <td>NaN</td>\n",
       "    </tr>\n",
       "    <tr>\n",
       "      <th>2017-09-16</th>\n",
       "      <td>NaN</td>\n",
       "      <td>NaN</td>\n",
       "    </tr>\n",
       "    <tr>\n",
       "      <th>2017-09-17</th>\n",
       "      <td>26.622005</td>\n",
       "      <td>0.260165</td>\n",
       "    </tr>\n",
       "    <tr>\n",
       "      <th>2017-09-18</th>\n",
       "      <td>26.647598</td>\n",
       "      <td>0.246638</td>\n",
       "    </tr>\n",
       "    <tr>\n",
       "      <th>2017-09-19</th>\n",
       "      <td>26.812830</td>\n",
       "      <td>0.264602</td>\n",
       "    </tr>\n",
       "    <tr>\n",
       "      <th>2017-09-20</th>\n",
       "      <td>NaN</td>\n",
       "      <td>NaN</td>\n",
       "    </tr>\n",
       "    <tr>\n",
       "      <th>2017-09-21</th>\n",
       "      <td>26.648727</td>\n",
       "      <td>0.250484</td>\n",
       "    </tr>\n",
       "  </tbody>\n",
       "</table>\n",
       "<p>1122 rows × 2 columns</p>\n",
       "</div>"
      ],
      "text/plain": [
       "                  bmi   bodyfat\n",
       "startDate                      \n",
       "2014-08-27  26.738682       NaN\n",
       "2014-08-28  26.648163  0.254151\n",
       "2014-08-29  26.580980  0.249023\n",
       "2014-08-30  26.425158  0.250666\n",
       "2014-08-31  27.029624  0.265226\n",
       "2014-09-01  27.106090  0.259151\n",
       "2014-09-02  27.103267  0.241427\n",
       "2014-09-03  26.683167  0.237895\n",
       "2014-09-04  26.458281  0.240266\n",
       "2014-09-05  26.615482  0.255232\n",
       "2014-09-06  26.544846  0.252924\n",
       "2014-09-07  26.668676  0.244919\n",
       "2014-09-08        NaN       NaN\n",
       "2014-09-09  26.559902  0.258662\n",
       "2014-09-10  26.553692  0.259157\n",
       "2014-09-11  26.269716  0.252350\n",
       "2014-09-12  26.528286  0.247734\n",
       "2014-09-13        NaN       NaN\n",
       "2014-09-14        NaN       NaN\n",
       "2014-09-15  26.778202  0.250102\n",
       "2014-09-16  26.579098  0.248364\n",
       "2014-09-17  26.640448  0.245419\n",
       "2014-09-18  26.634804  0.240963\n",
       "2014-09-19  26.491777  0.254951\n",
       "2014-09-20        NaN       NaN\n",
       "2014-09-21        NaN       NaN\n",
       "2014-09-22  26.798151  0.257725\n",
       "2014-09-23  26.672817  0.245615\n",
       "2014-09-24  26.843127  0.259586\n",
       "2014-09-25  26.735672  0.260664\n",
       "...               ...       ...\n",
       "2017-08-23  27.106030  0.268502\n",
       "2017-08-24        NaN       NaN\n",
       "2017-08-25  26.716099  0.263912\n",
       "2017-08-26        NaN       NaN\n",
       "2017-08-27        NaN       NaN\n",
       "2017-08-28        NaN       NaN\n",
       "2017-08-29        NaN       NaN\n",
       "2017-08-30        NaN       NaN\n",
       "2017-08-31        NaN       NaN\n",
       "2017-09-01        NaN       NaN\n",
       "2017-09-02        NaN       NaN\n",
       "2017-09-03        NaN       NaN\n",
       "2017-09-04        NaN       NaN\n",
       "2017-09-05        NaN       NaN\n",
       "2017-09-06        NaN       NaN\n",
       "2017-09-07        NaN       NaN\n",
       "2017-09-08        NaN       NaN\n",
       "2017-09-09        NaN       NaN\n",
       "2017-09-10        NaN       NaN\n",
       "2017-09-11  26.823368  0.243872\n",
       "2017-09-12        NaN       NaN\n",
       "2017-09-13        NaN       NaN\n",
       "2017-09-14        NaN       NaN\n",
       "2017-09-15        NaN       NaN\n",
       "2017-09-16        NaN       NaN\n",
       "2017-09-17  26.622005  0.260165\n",
       "2017-09-18  26.647598  0.246638\n",
       "2017-09-19  26.812830  0.264602\n",
       "2017-09-20        NaN       NaN\n",
       "2017-09-21  26.648727  0.250484\n",
       "\n",
       "[1122 rows x 2 columns]"
      ]
     },
     "execution_count": 148,
     "metadata": {},
     "output_type": "execute_result"
    }
   ],
   "source": [
    "\n",
    "data_sample['startDate'] = pd.to_datetime(data_sample['startDate'])\n",
    "\n",
    "bmi = data_sample[data_sample['type'] == 'health-bmi']\n",
    "bodyfat = data_sample[data_sample['type'] == 'health-body-fat']\n",
    "\n",
    "\n",
    "bmi.index = bmi['startDate']\n",
    "bodyfat.index = bodyfat['startDate']\n",
    "\n",
    "\n",
    "bmi['value'] = pd.to_numeric(bmi['value'])\n",
    "bmi = bmi.loc[:,'value']\n",
    "bmi = bmi.resample('D').mean()\n",
    "\n",
    "\n",
    "bodyfat['value'] = pd.to_numeric(bodyfat['value'])\n",
    "bodyfat = bodyfat.loc[:,'value']\n",
    "bodyfat = bodyfat.resample('D').mean()\n",
    "\n",
    "bmi = bmi.to_frame('bmi')\n",
    "bmi['bodyfat'] = bodyfat\n",
    "\n",
    "bmi\n"
   ]
  },
  {
   "cell_type": "code",
   "execution_count": 149,
   "metadata": {},
   "outputs": [
    {
     "data": {
      "text/plain": [
       "0.53509291331937148"
      ]
     },
     "execution_count": 149,
     "metadata": {},
     "output_type": "execute_result"
    }
   ],
   "source": [
    "corr_linear = bmi['bmi'].corr(bmi['bodyfat'])\n",
    "corr_linear"
   ]
  },
  {
   "cell_type": "code",
   "execution_count": 150,
   "metadata": {},
   "outputs": [
    {
     "data": {
      "text/plain": [
       "0.78995051603059374"
      ]
     },
     "execution_count": 150,
     "metadata": {},
     "output_type": "execute_result"
    }
   ],
   "source": [
    "corr_nonlinear = bmi['bmi'].corr(bmi['bodyfat'], method='spearman')\n",
    "corr_nonlinear"
   ]
  },
  {
   "cell_type": "code",
   "execution_count": 151,
   "metadata": {
    "scrolled": true
   },
   "outputs": [
    {
     "data": {
      "text/plain": [
       "[<matplotlib.lines.Line2D at 0x11889358>]"
      ]
     },
     "execution_count": 151,
     "metadata": {},
     "output_type": "execute_result"
    },
    {
     "data": {
      "image/png": "[encoded data removed]",
      "text/plain": [
       "<matplotlib.figure.Figure at 0x13e87908>"
      ]
     },
     "metadata": {},
     "output_type": "display_data"
    }
   ],
   "source": [
    "bmi = bmi.dropna()\n",
    "x = bmi.bmi.values\n",
    "y = bmi.bodyfat.values\n",
    "x = x.reshape(len(x), 1)\n",
    "y = y.reshape(len(x), 1)\n",
    "\n",
    "regr = linear_model.LinearRegression()\n",
    "regr.fit(x, y)\n",
    "\n",
    "# plot it as in the example at http://scikit-learn.org/\n",
    "plt.scatter(x, y,  color='black')\n",
    "plt.plot(x, regr.predict(x), color='yellow', linewidth=2)"
   ]
  },
  {
   "cell_type": "code",
   "execution_count": 152,
   "metadata": {},
   "outputs": [
    {
     "name": "stdout",
     "output_type": "stream",
     "text": [
      "The r^2 value is 0.286324425885\n"
     ]
    }
   ],
   "source": [
    "r_squared = regr.score(x, y)\n",
    "print (\"The r^2 value is {}\".format(r_squared))"
   ]
  },
  {
   "cell_type": "code",
   "execution_count": 176,
   "metadata": {
    "scrolled": true
   },
   "outputs": [
    {
     "name": "stdout",
     "output_type": "stream",
     "text": [
      "The r value for bmi to bodyfat is 0.332972237863 and p is 0.31703435498\n"
     ]
    }
   ],
   "source": [
    "corr_info = stats.stats.pearsonr(x, y)\n",
    "r = corr_info[0][0]\n",
    "p = corr_info[1][0]\n",
    "print (\"The r value for bmi to bodyfat is {} and p is {}\".format(r, p))"
   ]
  },
  {
   "cell_type": "code",
   "execution_count": 174,
   "metadata": {},
   "outputs": [
    {
     "name": "stderr",
     "output_type": "stream",
     "text": [
      "C:\\ProgramData\\Anaconda2\\lib\\site-packages\\ipykernel_launcher.py:10: SettingWithCopyWarning: \n",
      "A value is trying to be set on a copy of a slice from a DataFrame.\n",
      "Try using .loc[row_indexer,col_indexer] = value instead\n",
      "\n",
      "See the caveats in the documentation: http://pandas.pydata.org/pandas-docs/stable/indexing.html#indexing-view-versus-copy\n",
      "  # Remove the CWD from sys.path while we load stuff.\n",
      "C:\\ProgramData\\Anaconda2\\lib\\site-packages\\ipykernel_launcher.py:15: SettingWithCopyWarning: \n",
      "A value is trying to be set on a copy of a slice from a DataFrame.\n",
      "Try using .loc[row_indexer,col_indexer] = value instead\n",
      "\n",
      "See the caveats in the documentation: http://pandas.pydata.org/pandas-docs/stable/indexing.html#indexing-view-versus-copy\n",
      "  from ipykernel import kernelapp as app\n"
     ]
    }
   ],
   "source": [
    "def prepare_table(x, y):\n",
    "    steps = data_sample[data_sample['type'] == x]\n",
    "    bodyfat = data_sample[data_sample['type'] == y]\n",
    "\n",
    "\n",
    "    steps.index = steps['startDate']\n",
    "    bodyfat.index = bodyfat['startDate']\n",
    "\n",
    "\n",
    "    steps['value'] = pd.to_numeric(steps['value'])\n",
    "    steps = steps.loc[:,'value']\n",
    "    steps = steps.resample('D').sum()\n",
    "\n",
    "\n",
    "    bodyfat['value'] = pd.to_numeric(bodyfat['value'])\n",
    "    bodyfat = bodyfat.loc[:,'value']\n",
    "    bodyfat = bodyfat.resample('D').mean()\n",
    "\n",
    "    steps = steps.to_frame('first')\n",
    "    steps['second'] = bodyfat\n",
    "    \n",
    "    return steps\n",
    "\n",
    "steps = prepare_table('health-step-count', 'health-body-fat')"
   ]
  },
  {
   "cell_type": "code",
   "execution_count": 172,
   "metadata": {},
   "outputs": [
    {
     "data": {
      "image/png": "[encoded data removed]",
      "text/plain": [
       "<matplotlib.figure.Figure at 0x15a92320>"
      ]
     },
     "metadata": {},
     "output_type": "display_data"
    }
   ],
   "source": [
    "def plotter(steps):\n",
    "    steps = steps.dropna()\n",
    "    x = steps['first'].values\n",
    "    y = steps['second'].values\n",
    "    x = x.reshape(len(x), 1)\n",
    "    y = y.reshape(len(x), 1)\n",
    "\n",
    "    regr = linear_model.LinearRegression()\n",
    "    regr.fit(x, y)\n",
    "\n",
    "    # plot it as in the example at http://scikit-learn.org/\n",
    "    plt.scatter(x, y,  color='black')\n",
    "    plt.plot(x, regr.predict(x), color='yellow', linewidth=2)\n",
    "    \n",
    "    corr_info = stats.stats.pearsonr(x, y)\n",
    "    r = corr_info[0][0]\n",
    "    p = corr_info[1][0]\n",
    "    return r, p\n",
    "\n",
    "r, p = plotter(steps)\n"
   ]
  },
  {
   "cell_type": "code",
   "execution_count": 175,
   "metadata": {},
   "outputs": [
    {
     "name": "stdout",
     "output_type": "stream",
     "text": [
      "The r value for steps to bmi is 0.332972237863 and p is 0.31703435498\n"
     ]
    }
   ],
   "source": [
    "print (\"The r value for steps to bmi is {} and p is {}\".format(r, p))"
   ]
  },
  {
   "cell_type": "code",
   "execution_count": 178,
   "metadata": {},
   "outputs": [
    {
     "name": "stderr",
     "output_type": "stream",
     "text": [
      "C:\\ProgramData\\Anaconda2\\lib\\site-packages\\ipykernel_launcher.py:10: SettingWithCopyWarning: \n",
      "A value is trying to be set on a copy of a slice from a DataFrame.\n",
      "Try using .loc[row_indexer,col_indexer] = value instead\n",
      "\n",
      "See the caveats in the documentation: http://pandas.pydata.org/pandas-docs/stable/indexing.html#indexing-view-versus-copy\n",
      "  # Remove the CWD from sys.path while we load stuff.\n",
      "C:\\ProgramData\\Anaconda2\\lib\\site-packages\\ipykernel_launcher.py:15: SettingWithCopyWarning: \n",
      "A value is trying to be set on a copy of a slice from a DataFrame.\n",
      "Try using .loc[row_indexer,col_indexer] = value instead\n",
      "\n",
      "See the caveats in the documentation: http://pandas.pydata.org/pandas-docs/stable/indexing.html#indexing-view-versus-copy\n",
      "  from ipykernel import kernelapp as app\n"
     ]
    }
   ],
   "source": [
    "weight_to_steps = prepare_table('health-weight', 'health-step-count')"
   ]
  },
  {
   "cell_type": "code",
   "execution_count": 179,
   "metadata": {},
   "outputs": [
    {
     "data": {
      "image/png": "[encoded data removed]",
      "text/plain": [
       "<matplotlib.figure.Figure at 0x118c9940>"
      ]
     },
     "metadata": {},
     "output_type": "display_data"
    }
   ],
   "source": [
    "r, p = plotter(weight_to_steps)"
   ]
  },
  {
   "cell_type": "code",
   "execution_count": 180,
   "metadata": {},
   "outputs": [
    {
     "name": "stdout",
     "output_type": "stream",
     "text": [
      "The r value for weight to steps is -0.539133199992 and p is 0.0870008430613\n"
     ]
    }
   ],
   "source": [
    "print (\"The r value for weight to steps is {} and p is {}\".format(r, p))"
   ]
  },
  {
   "cell_type": "code",
   "execution_count": null,
   "metadata": {
    "collapsed": true
   },
   "outputs": [],
   "source": [
    "x = np.asarray([float(bmi['bmi'][i]) for i in range(len(bmi['bmi']))])\n",
    "y = np.asarray([float(bmi['bodyfat'][i]) for i in range(len(bmi['bodyfat']))])"
   ]
  },
  {
   "cell_type": "code",
   "execution_count": null,
   "metadata": {
    "collapsed": true,
    "scrolled": true
   },
   "outputs": [],
   "source": [
    "#slope, intercept, r_value, p_value, std_err = stats.linregress(x,y)\n",
    "#line = slope*x+intercept\n",
    "fit = np.polyfit(x,y,1)\n",
    "fit_fn = np.poly1d(fit) \n",
    "# fit_fn is now a function which takes in x and returns an estimate for y\n",
    "\n",
    "plt.plot(x,y, 'go') #, x, fit_fn(x), '--k')\n",
    "#plt.xlim(0, 5)\n",
    "#plt.ylim(0, 12)"
   ]
  },
  {
   "cell_type": "code",
   "execution_count": null,
   "metadata": {
    "collapsed": true
   },
   "outputs": [],
   "source": [
    "for i in itertools.combinations(types, 2):\n",
    "    t1 = i[0]\n",
    "    t2 = i[1]\n",
    "    a, b = plotter(prepare_table(t1, t2))\n",
    "    print(\"The r and p values for {} and {} are: r = {} and p = {}\".format(t1, t2, a, b))"
   ]
  }
 ],
 "metadata": {
  "kernelspec": {
   "display_name": "Python 2",
   "language": "python",
   "name": "python2"
  },
  "language_info": {
   "codemirror_mode": {
    "name": "ipython",
    "version": 2
   },
   "file_extension": ".py",
   "mimetype": "text/x-python",
   "name": "python",
   "nbconvert_exporter": "python",
   "pygments_lexer": "ipython2",
   "version": "2.7.13"
  }
 },
 "nbformat": 4,
 "nbformat_minor": 2
}
