{
 "cells": [
  {
   "cell_type": "markdown",
   "metadata": {},
   "source": [
    "# **User Data Score -- Ongo **\n",
    "\n",
    "\n",
    "______________________________________________________________________________________________________________________\n",
    "## In this document we want to assign a score to users, indicating the overall quality of their data. \n",
    "\n",
    "### We define a user's data quality score to be a number 1-100 reflecting a combination of recency, consistency, and quantity/correlation strength, indicating how strong the correlations and conclusions we can make from one's data are. The higher a user's score, the more confident we are of creating strong recommendations.\n",
    "\n",
    "\n",
    "- Recency is defined by how recent the bulk of a user's data is. ideally user's have recent data, leading to more relevant conclusions\n",
    "- Consistency is defined by how much consistently a user is collecting their data, an ideal user would upload data on a consistent basis, making patterns more clear\n",
    "- Quantity/correlation strength is how many point of data a user owns of each type and how strong of patterns we are currently finding. This helps us deal with variance of data, and confirm the strength of our variable relationships. \n",
    "\n",
    "______________________________________________________________________________________________________________________\n",
    "\n",
    "\n"
   ]
  },
  {
   "cell_type": "markdown",
   "metadata": {},
   "source": [
    "# Process\n",
    "\n",
    "### To start we will partition the score into 1/8 recency, 1/8 consistency, and 3/4 quantity/correlation. \n",
    "### *We will focus on the type variables steps, weight, sleep, HR\n",
    "\n",
    "Note: This splitting is arbitrary in nature and will be changed as we test our score. "
   ]
  },
  {
   "cell_type": "markdown",
   "metadata": {},
   "source": [
    "#### *This next cell just initializes our environment.* "
   ]
  },
  {
   "cell_type": "code",
   "execution_count": 1,
   "metadata": {},
   "outputs": [
    {
     "name": "stderr",
     "output_type": "stream",
     "text": [
      "/Users/matthewzurek/anaconda/lib/python3.6/site-packages/IPython/core/interactiveshell.py:2717: DtypeWarning: Columns (10) have mixed types. Specify dtype option on import or set low_memory=False.\n",
      "  interactivity=interactivity, compiler=compiler, result=result)\n"
     ]
    },
    {
     "data": {
      "text/html": [
       "<div>\n",
       "<style>\n",
       "    .dataframe thead tr:only-child th {\n",
       "        text-align: right;\n",
       "    }\n",
       "\n",
       "    .dataframe thead th {\n",
       "        text-align: left;\n",
       "    }\n",
       "\n",
       "    .dataframe tbody tr th {\n",
       "        vertical-align: top;\n",
       "    }\n",
       "</style>\n",
       "<table border=\"1\" class=\"dataframe\">\n",
       "  <thead>\n",
       "    <tr style=\"text-align: right;\">\n",
       "      <th></th>\n",
       "      <th>_id</th>\n",
       "      <th>owner</th>\n",
       "      <th>source</th>\n",
       "      <th>sourceId</th>\n",
       "      <th>sourceName</th>\n",
       "      <th>type</th>\n",
       "      <th>startDate</th>\n",
       "      <th>endDate</th>\n",
       "      <th>value</th>\n",
       "      <th>content</th>\n",
       "      <th>originalData</th>\n",
       "      <th>createdAt</th>\n",
       "      <th>updatedAt</th>\n",
       "      <th>duration</th>\n",
       "      <th>day_of_week</th>\n",
       "    </tr>\n",
       "  </thead>\n",
       "  <tbody>\n",
       "    <tr>\n",
       "      <th>0</th>\n",
       "      <td>563257a8-70fc-45d3-bdad-106bd7f66b29</td>\n",
       "      <td>00000000-56ff-538b-2223-e1800b5e3ddb</td>\n",
       "      <td>nokia</td>\n",
       "      <td>step-count:2017-09-28</td>\n",
       "      <td>Nokia Health Mate</td>\n",
       "      <td>health-step-distance</td>\n",
       "      <td>2017-09-28 07:00:00</td>\n",
       "      <td>2017-09-29 06:59:59</td>\n",
       "      <td>6704.862</td>\n",
       "      <td>NaN</td>\n",
       "      <td>NaN</td>\n",
       "      <td>2017-10-13 14:58:59.142236-07</td>\n",
       "      <td>2017-10-13 15:01:20.166114-07</td>\n",
       "      <td>23:59:59</td>\n",
       "      <td>3</td>\n",
       "    </tr>\n",
       "    <tr>\n",
       "      <th>1</th>\n",
       "      <td>80ae5a3e-dabc-4235-bd94-c87cd396555e</td>\n",
       "      <td>00000000-56ff-538b-2223-e1800b5e3ddb</td>\n",
       "      <td>nokia</td>\n",
       "      <td>step-count:2016-03-10</td>\n",
       "      <td>Nokia Health Mate</td>\n",
       "      <td>health-step-count</td>\n",
       "      <td>2016-03-10 05:00:00</td>\n",
       "      <td>2016-03-11 04:59:59</td>\n",
       "      <td>10204.000</td>\n",
       "      <td>NaN</td>\n",
       "      <td>{\"steps\": 10204, \"moderate\": 1860, \"date\": \"20...</td>\n",
       "      <td>2017-10-13 14:55:40.604012-07</td>\n",
       "      <td>2017-10-13 15:16:33.227505-07</td>\n",
       "      <td>23:59:59</td>\n",
       "      <td>3</td>\n",
       "    </tr>\n",
       "    <tr>\n",
       "      <th>2</th>\n",
       "      <td>c1c5bebc-4c8f-4027-9e08-c08fbf8a7321</td>\n",
       "      <td>00000000-56ff-538b-2223-e1800b5e3ddb</td>\n",
       "      <td>nokia</td>\n",
       "      <td>step-count:2016-03-08</td>\n",
       "      <td>Nokia Health Mate</td>\n",
       "      <td>health-step-count</td>\n",
       "      <td>2016-03-08 05:00:00</td>\n",
       "      <td>2016-03-09 04:59:59</td>\n",
       "      <td>94.000</td>\n",
       "      <td>NaN</td>\n",
       "      <td>{\"steps\": 94, \"moderate\": 0, \"date\": \"2016-03-...</td>\n",
       "      <td>2017-10-13 14:55:40.604012-07</td>\n",
       "      <td>2017-10-13 15:16:33.227505-07</td>\n",
       "      <td>23:59:59</td>\n",
       "      <td>1</td>\n",
       "    </tr>\n",
       "    <tr>\n",
       "      <th>3</th>\n",
       "      <td>9bbe6936-21a2-4142-b641-e1bfbdf7280b</td>\n",
       "      <td>00000000-56ff-538b-2223-e1800b5e3ddb</td>\n",
       "      <td>nokia</td>\n",
       "      <td>step-count:2017-01-27</td>\n",
       "      <td>Nokia Health Mate</td>\n",
       "      <td>health-step-distance</td>\n",
       "      <td>2017-01-27 08:00:00</td>\n",
       "      <td>2017-01-28 07:59:59</td>\n",
       "      <td>3179.660</td>\n",
       "      <td>NaN</td>\n",
       "      <td>{\"steps\": 4962, \"moderate\": 1380, \"date\": \"201...</td>\n",
       "      <td>2017-10-13 14:55:40.604012-07</td>\n",
       "      <td>2017-10-13 15:16:33.227505-07</td>\n",
       "      <td>23:59:59</td>\n",
       "      <td>4</td>\n",
       "    </tr>\n",
       "    <tr>\n",
       "      <th>4</th>\n",
       "      <td>e7625898-f2a8-4ab3-af93-04f52ad05ccc</td>\n",
       "      <td>00000000-56ff-538b-2223-e1800b5e3ddb</td>\n",
       "      <td>nokia</td>\n",
       "      <td>step-count:2017-07-25</td>\n",
       "      <td>Nokia Health Mate</td>\n",
       "      <td>health-step-distance</td>\n",
       "      <td>2017-07-25 07:00:00</td>\n",
       "      <td>2017-07-26 06:59:59</td>\n",
       "      <td>9816.914</td>\n",
       "      <td>NaN</td>\n",
       "      <td>{\"steps\": 13544, \"moderate\": 1740, \"date\": \"20...</td>\n",
       "      <td>2017-10-13 14:55:40.604012-07</td>\n",
       "      <td>2017-10-13 15:16:33.227505-07</td>\n",
       "      <td>23:59:59</td>\n",
       "      <td>1</td>\n",
       "    </tr>\n",
       "  </tbody>\n",
       "</table>\n",
       "</div>"
      ],
      "text/plain": [
       "                                    _id                                 owner  \\\n",
       "0  563257a8-70fc-45d3-bdad-106bd7f66b29  00000000-56ff-538b-2223-e1800b5e3ddb   \n",
       "1  80ae5a3e-dabc-4235-bd94-c87cd396555e  00000000-56ff-538b-2223-e1800b5e3ddb   \n",
       "2  c1c5bebc-4c8f-4027-9e08-c08fbf8a7321  00000000-56ff-538b-2223-e1800b5e3ddb   \n",
       "3  9bbe6936-21a2-4142-b641-e1bfbdf7280b  00000000-56ff-538b-2223-e1800b5e3ddb   \n",
       "4  e7625898-f2a8-4ab3-af93-04f52ad05ccc  00000000-56ff-538b-2223-e1800b5e3ddb   \n",
       "\n",
       "  source               sourceId         sourceName                  type  \\\n",
       "0  nokia  step-count:2017-09-28  Nokia Health Mate  health-step-distance   \n",
       "1  nokia  step-count:2016-03-10  Nokia Health Mate     health-step-count   \n",
       "2  nokia  step-count:2016-03-08  Nokia Health Mate     health-step-count   \n",
       "3  nokia  step-count:2017-01-27  Nokia Health Mate  health-step-distance   \n",
       "4  nokia  step-count:2017-07-25  Nokia Health Mate  health-step-distance   \n",
       "\n",
       "            startDate             endDate      value  content  \\\n",
       "0 2017-09-28 07:00:00 2017-09-29 06:59:59   6704.862      NaN   \n",
       "1 2016-03-10 05:00:00 2016-03-11 04:59:59  10204.000      NaN   \n",
       "2 2016-03-08 05:00:00 2016-03-09 04:59:59     94.000      NaN   \n",
       "3 2017-01-27 08:00:00 2017-01-28 07:59:59   3179.660      NaN   \n",
       "4 2017-07-25 07:00:00 2017-07-26 06:59:59   9816.914      NaN   \n",
       "\n",
       "                                        originalData  \\\n",
       "0                                                NaN   \n",
       "1  {\"steps\": 10204, \"moderate\": 1860, \"date\": \"20...   \n",
       "2  {\"steps\": 94, \"moderate\": 0, \"date\": \"2016-03-...   \n",
       "3  {\"steps\": 4962, \"moderate\": 1380, \"date\": \"201...   \n",
       "4  {\"steps\": 13544, \"moderate\": 1740, \"date\": \"20...   \n",
       "\n",
       "                       createdAt                      updatedAt duration  \\\n",
       "0  2017-10-13 14:58:59.142236-07  2017-10-13 15:01:20.166114-07 23:59:59   \n",
       "1  2017-10-13 14:55:40.604012-07  2017-10-13 15:16:33.227505-07 23:59:59   \n",
       "2  2017-10-13 14:55:40.604012-07  2017-10-13 15:16:33.227505-07 23:59:59   \n",
       "3  2017-10-13 14:55:40.604012-07  2017-10-13 15:16:33.227505-07 23:59:59   \n",
       "4  2017-10-13 14:55:40.604012-07  2017-10-13 15:16:33.227505-07 23:59:59   \n",
       "\n",
       "   day_of_week  \n",
       "0            3  \n",
       "1            3  \n",
       "2            1  \n",
       "3            4  \n",
       "4            1  "
      ]
     },
     "execution_count": 1,
     "metadata": {},
     "output_type": "execute_result"
    }
   ],
   "source": [
    "import seaborn as sns\n",
    "import csv\n",
    "import numpy as np\n",
    "import pandas as pd\n",
    "import matplotlib.pyplot as plt\n",
    "%matplotlib inline\n",
    "sns.set()\n",
    "import datetime\n",
    "import warnings\n",
    "\n",
    "data_sample = pd.read_csv('20171016-210106-DataSample.csv',dtype={\"value\": float})\n",
    "data_sample2 = pd.read_csv('20171016-210304-DataSample.csv',dtype={\"value\": float})\n",
    "data_sample3 = pd.read_csv('20171016-210529-DataSample.csv',dtype={\"value\": float})\n",
    "data_sample4 = pd.read_csv('20171016-235959-DataSample.csv',dtype={\"value\": float})\n",
    "\n",
    "data_sample = data_sample.append([data_sample2,data_sample3,data_sample4])\n",
    "data_sample['startDate'] = pd.to_datetime(data_sample['startDate']) \n",
    "data_sample['owner'].replace('00000000-5854-8d6f-b8eb-cf14a0f795df','00000000-56ff-538b-2223-e1800b5e3ddb',inplace=True)\n",
    "data_sample['startDate'] = pd.to_datetime(data_sample['startDate'])\n",
    "data_sample['endDate'] = pd.to_datetime(data_sample['endDate'])\n",
    "\n",
    "\n",
    "to_tdelta = lambda row: row['endDate'] - row['startDate']\n",
    "data_sample['duration'] = data_sample.apply(to_tdelta, axis=1)\n",
    "data_sample['day_of_week'] = data_sample['startDate'].dt.dayofweek\n",
    "data_sample.head() #0 - 6 is monday - sunday"
   ]
  },
  {
   "cell_type": "markdown",
   "metadata": {},
   "source": [
    "## Recency\n",
    "\n",
    "### Method: We want to see whether or not a user's data is recent or not. We will take the total amount of a user's data, see when the data was initially tracked, and see how much of that data exists within the last 60 days. \n",
    "\n",
    "Example: User X has 100 points of data for sleep over 2 years of collected data. However 99% of this data was before the past 60 days. This is bad. "
   ]
  },
  {
   "cell_type": "markdown",
   "metadata": {},
   "source": [
    "### Aydin, Luqmaan -> Calculate a score out of a 100. A 100 for a type would be a user who's data in the past 60 days is equal to or greater than 60 days / total time interval data has been collected. \n",
    "\n",
    "## Formula: (x/y) * (z/60) = type recency score  \n",
    "\n",
    "### x -> amount of data in last 60 days \n",
    "### y -> total amount of data \n",
    "### z -> total days that their data was collected\n",
    "\n",
    "## After doing this for each type you will have a few scores, average them for a final score\n",
    "\n",
    "\n",
    "Example: User has 100 points of data over past 120 days, 50 points of data are in past 60 days. Score of 100. "
   ]
  },
  {
   "cell_type": "code",
   "execution_count": null,
   "metadata": {
    "collapsed": true
   },
   "outputs": [],
   "source": []
  },
  {
   "cell_type": "code",
   "execution_count": null,
   "metadata": {
    "collapsed": true
   },
   "outputs": [],
   "source": []
  },
  {
   "cell_type": "markdown",
   "metadata": {},
   "source": [
    "## Consistency\n",
    "\n",
    "### Method: We want to see how consistent the collection of a user's data is. For variables that we want to compare on certain intervals, we want to know how much data we're \"losing\". \n",
    "\n",
    "Example: User X has 1000 points of HR, and 500 points of step count, however, on a very large number of days where he measured his step counts, he didn't measure his heart rate. Or on those days he did not record his amount of sleep. This data is essentially difficult to use, as this could have profound effects on the correlations we find. "
   ]
  },
  {
   "cell_type": "markdown",
   "metadata": {},
   "source": [
    "### Matt -> Calculate out a score 0-100 grading the consistency of a user's data. \n",
    "#### Do this for each type, and average them out. \n",
    "#### Note the different types of variables will have varying intervals of time, so for weight you wouldn't really care if they measure every day, but if you had a month's worth of user activity, but no weight measurement's during that time, that is bad. Or if all 4 of their weight measurements were in the last 2 weeks out of 4 months.\n",
    "\n",
    "#### There's a lot of freedom on this, let me know if you have any questions or anything\n"
   ]
  },
  {
   "cell_type": "code",
   "execution_count": 3,
   "metadata": {},
   "outputs": [
    {
     "data": {
      "text/plain": [
       "array(['health-step-distance', 'health-step-count',\n",
       "       'health-fat-mass-weight', 'health-body-fat', 'health-fat-free-mass',\n",
       "       'health-heart-rate', 'health-height', 'health-weight', 'health-bmi',\n",
       "       'health-sleep'], dtype=object)"
      ]
     },
     "execution_count": 3,
     "metadata": {},
     "output_type": "execute_result"
    }
   ],
   "source": [
    "data_sample['type'].unique()"
   ]
  },
  {
   "cell_type": "code",
   "execution_count": 4,
   "metadata": {
    "scrolled": true
   },
   "outputs": [
    {
     "data": {
      "text/plain": [
       "array(['00000000-56ff-538b-2223-e1800b5e3ddb',\n",
       "       '00000000-5851-ee08-eb34-e20acc5af74e',\n",
       "       'd145b032-b7a5-4fa8-9887-b46598f4683a',\n",
       "       '00000000-5951-4787-2497-ae32dc8d07d4',\n",
       "       '00000000-584e-1f39-bdee-d4102b989d01',\n",
       "       '00000000-584d-a4f0-bdee-d4102b989ce5'], dtype=object)"
      ]
     },
     "execution_count": 4,
     "metadata": {},
     "output_type": "execute_result"
    }
   ],
   "source": [
    "data_sample['owner'].unique()"
   ]
  },
  {
   "cell_type": "markdown",
   "metadata": {},
   "source": [
    "Looking at the startDate and endDate columns, it's clear that the following wouldn't exactly\n",
    "work and that the index should be set before running this function, setting it intelligently\n",
    "based on the source of the data"
   ]
  },
  {
   "cell_type": "markdown",
   "metadata": {},
   "source": [
    "Also, this won't score sleep data properly until the duration gets moved to the value\n",
    "column"
   ]
  },
  {
   "cell_type": "code",
   "execution_count": 28,
   "metadata": {
    "scrolled": true
   },
   "outputs": [
    {
     "name": "stdout",
     "output_type": "stream",
     "text": [
      "Owner: 00000000-56ff-538b-2223-e1800b5e3ddb Data Type: health-step-distance\n",
      "Score: 50.9803921569\n",
      "Owner: 00000000-56ff-538b-2223-e1800b5e3ddb Data Type: health-step-count\n",
      "Score: 56.8292682927\n",
      "Owner: 00000000-56ff-538b-2223-e1800b5e3ddb Data Type: health-fat-mass-weight\n",
      "Score: 29.4220665499\n",
      "Owner: 00000000-56ff-538b-2223-e1800b5e3ddb Data Type: health-body-fat\n",
      "Score: 29.5096322242\n",
      "Owner: 00000000-56ff-538b-2223-e1800b5e3ddb Data Type: health-fat-free-mass\n",
      "Score: 29.4220665499\n",
      "Owner: 00000000-56ff-538b-2223-e1800b5e3ddb Data Type: health-heart-rate\n",
      "Score: 32.8097731239\n",
      "Owner: 00000000-56ff-538b-2223-e1800b5e3ddb Data Type: health-height\n",
      "Score: 100.0\n",
      "Owner: 00000000-56ff-538b-2223-e1800b5e3ddb Data Type: health-weight\n",
      "Score: 17.3892329681\n",
      "Owner: 00000000-56ff-538b-2223-e1800b5e3ddb Data Type: health-bmi\n",
      "Score: 16.9128156265\n",
      "Owner: 00000000-56ff-538b-2223-e1800b5e3ddb Data Type: health-sleep\n",
      "Score: 2.14489990467\n",
      "Owner: 00000000-5851-ee08-eb34-e20acc5af74e Data Type: health-step-count\n",
      "Score: 32.1621621622\n",
      "Owner: 00000000-5851-ee08-eb34-e20acc5af74e Data Type: health-sleep\n",
      "Score: 75.0922509225\n",
      "Owner: 00000000-5851-ee08-eb34-e20acc5af74e Data Type: health-heart-rate\n",
      "Score: 40.0423728814\n",
      "Owner: 00000000-5851-ee08-eb34-e20acc5af74e Data Type: health-bmi\n",
      "Score: 62.29739253\n",
      "Owner: 00000000-5851-ee08-eb34-e20acc5af74e Data Type: health-weight\n",
      "Score: 62.29739253\n",
      "Owner: 00000000-5851-ee08-eb34-e20acc5af74e Data Type: health-fat-free-mass\n",
      "Score: 61.6361071932\n",
      "Owner: 00000000-5851-ee08-eb34-e20acc5af74e Data Type: health-body-fat\n",
      "Score: 61.8476727786\n",
      "Owner: 00000000-5851-ee08-eb34-e20acc5af74e Data Type: health-fat-mass-weight\n",
      "Score: 61.6361071932\n",
      "Owner: 00000000-5851-ee08-eb34-e20acc5af74e Data Type: health-height\n",
      "Score: 100.0\n",
      "Owner: d145b032-b7a5-4fa8-9887-b46598f4683a Data Type: health-step-count\n",
      "Score: 100.0\n",
      "Owner: d145b032-b7a5-4fa8-9887-b46598f4683a Data Type: health-weight\n",
      "Score: 100.0\n",
      "Owner: 00000000-5951-4787-2497-ae32dc8d07d4 Data Type: health-step-count\n",
      "Score: 100.0\n",
      "Owner: 00000000-5951-4787-2497-ae32dc8d07d4 Data Type: health-sleep\n",
      "Score: 10.4712041885\n",
      "Owner: 00000000-5951-4787-2497-ae32dc8d07d4 Data Type: health-heart-rate\n",
      "Score: 12.5541125541\n",
      "Owner: 00000000-5951-4787-2497-ae32dc8d07d4 Data Type: health-bmi\n",
      "Score: 100.0\n",
      "Owner: 00000000-5951-4787-2497-ae32dc8d07d4 Data Type: health-weight\n",
      "Score: 2.21238938053\n",
      "Owner: 00000000-584e-1f39-bdee-d4102b989d01 Data Type: health-step-count\n",
      "Score: 100.0\n",
      "Owner: 00000000-584e-1f39-bdee-d4102b989d01 Data Type: health-heart-rate\n",
      "Score: 63.0136986301\n",
      "Owner: 00000000-584e-1f39-bdee-d4102b989d01 Data Type: health-weight\n",
      "Score: 100.0\n",
      "Owner: 00000000-584d-a4f0-bdee-d4102b989ce5 Data Type: health-step-count\n",
      "Score: 100.0\n",
      "Owner: 00000000-584d-a4f0-bdee-d4102b989ce5 Data Type: health-weight\n",
      "Score: 5.63265306122\n",
      "Owner: 00000000-584d-a4f0-bdee-d4102b989ce5 Data Type: health-sleep\n",
      "Score: 0.0\n"
     ]
    }
   ],
   "source": [
    "ds_c = data_sample.copy()\n",
    "ds_c.index = ds_c.startDate\n",
    "\n",
    "# completeness within data types\n",
    "for owner in ds_c.owner.unique():\n",
    "    ds_o = ds_c[ds_c.owner == owner]\n",
    "    for typ in ds_o.type.unique():\n",
    "        print('Owner:', owner, 'Data Type:', typ)\n",
    "        daily = ds_o[ds_o.type == typ].resample('D').sum()\n",
    "        missing_days = len(daily[daily.value == 0])\n",
    "        # print(missing_days)\n",
    "        null_days = sum(daily.value.isnull())\n",
    "        # print(null_days)\n",
    "        total_days = len(daily)\n",
    "        # print(total_days)\n",
    "        consistency_score = (total_days - null_days - missing_days) / total_days * 100\n",
    "        print('Score:', consistency_score)"
   ]
  },
  {
   "cell_type": "code",
   "execution_count": null,
   "metadata": {
    "collapsed": true
   },
   "outputs": [],
   "source": []
  },
  {
   "cell_type": "code",
   "execution_count": null,
   "metadata": {
    "collapsed": true
   },
   "outputs": [],
   "source": []
  },
  {
   "cell_type": "code",
   "execution_count": null,
   "metadata": {
    "collapsed": true
   },
   "outputs": [],
   "source": []
  },
  {
   "cell_type": "code",
   "execution_count": 26,
   "metadata": {
    "collapsed": true
   },
   "outputs": [],
   "source": [
    "# cross type completeness\n",
    "\n",
    "# first frequency must be lower and the data must be from one user only\n",
    "def consistency_score(df, type1, freq1, type2, freq2):\n",
    "    df_t1 = df[df.type == type1][['value']].resample(freq1).sum()\n",
    "    df_t1.columns.values[0] = 'v1'\n",
    "    df_t1 = df_t1.fillna(0)\n",
    "    # print(df_t1)\n",
    "    \n",
    "    df_t2 = df[df.type == type2][['value']].resample(freq2).sum()\n",
    "    df_t2.columns.values[0] = 'v2'\n",
    "    df_t2 = df_t2.fillna(0)\n",
    "    # print(df_t2)\n",
    "    \n",
    "    df_t2 = df_t2.resample(freq1).sum().fillna(method='ffill')\n",
    "    # print(df_t2)\n",
    "    \n",
    "    \n",
    "    df_cr = pd.concat([df_t1, df_t2], axis=1).fillna(0)\n",
    "    # print(df_cr)\n",
    "    \n",
    "    missing = len(df_cr[(df_cr.v1 == 0) | (df_cr.v2 == 0)])\n",
    "    return (len(df_cr) - missing) / len(df_cr) * 100"
   ]
  },
  {
   "cell_type": "code",
   "execution_count": 27,
   "metadata": {
    "scrolled": false
   },
   "outputs": [
    {
     "data": {
      "text/plain": [
       "17.753450737743933"
      ]
     },
     "execution_count": 27,
     "metadata": {},
     "output_type": "execute_result"
    }
   ],
   "source": [
    "df1 = data_sample[data_sample.owner == data_sample.owner.unique()[0]]\n",
    "df1.index = df1.startDate\n",
    "consistency_score(df1, 'health-step-count', 'D', 'health-weight', 'W')"
   ]
  },
  {
   "cell_type": "code",
   "execution_count": null,
   "metadata": {
    "collapsed": true
   },
   "outputs": [],
   "source": []
  },
  {
   "cell_type": "code",
   "execution_count": null,
   "metadata": {
    "collapsed": true
   },
   "outputs": [],
   "source": []
  },
  {
   "cell_type": "markdown",
   "metadata": {},
   "source": [
    "## Quantity/Correlation Strength \n",
    "\n",
    "### Method: We essentially want to see if this user's data is telling us anything. Can we find correlations, patterns in the data, and how confident can we be in those correlations. We look into the different combinations of the variables, see how many we can find strong results\n",
    "\n",
    "Example: User X has stellar correlations, we find strong patterns in all the variable combinations, small p-values for each of them, high score. "
   ]
  },
  {
   "cell_type": "markdown",
   "metadata": {},
   "source": [
    "### Lucas, Sebastian, John -> We want to look at what the chance is that the correlations that we are finding are \"random\" or not. We can use p-values across the different combinations, see how many we can be fairly confident in, and create a score from that. "
   ]
  },
  {
   "cell_type": "markdown",
   "metadata": {},
   "source": [
    "## Testing \n",
    "\n",
    "### After creating our score we will want to be able test how accurate they are. \n",
    "### TO BE CONTINUED"
   ]
  },
  {
   "cell_type": "code",
   "execution_count": null,
   "metadata": {
    "collapsed": true
   },
   "outputs": [],
   "source": []
  },
  {
   "cell_type": "code",
   "execution_count": null,
   "metadata": {
    "collapsed": true
   },
   "outputs": [],
   "source": []
  }
 ],
 "metadata": {
  "kernelspec": {
   "display_name": "Python 3",
   "language": "python",
   "name": "python3"
  },
  "language_info": {
   "codemirror_mode": {
    "name": "ipython",
    "version": 3
   },
   "file_extension": ".py",
   "mimetype": "text/x-python",
   "name": "python",
   "nbconvert_exporter": "python",
   "pygments_lexer": "ipython3",
   "version": "3.6.1"
  }
 },
 "nbformat": 4,
 "nbformat_minor": 2
}
