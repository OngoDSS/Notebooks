{
 "cells": [
  {
   "cell_type": "markdown",
   "metadata": {},
   "source": [
    "# **User Data Score -- Ongo **\n",
    "\n",
    "\n",
    "______________________________________________________________________________________________________________________\n",
    "## In this document we want to assign a score to users, indicating the overall quality of their data. \n",
    "\n",
    "### We define a user's data quality score to be a number 1-100 reflecting a combination of recency, consistency, and quantity/correlation strength, indicating how strong the correlations and conclusions we can make from one's data are. The higher a user's score, the more confident we are of creating strong recommendations.\n",
    "\n",
    "\n",
    "- Recency is defined by how recent the bulk of a user's data is. ideally user's have recent data, leading to more relevant conclusions\n",
    "- Consistency is defined by how much consistently a user is collecting their data, an ideal user would upload data on a consistent basis, making patterns more clear\n",
    "- Quantity/correlation strength is how many point of data a user owns of each type and how strong of patterns we are currently finding. This helps us deal with variance of data, and confirm the strength of our variable relationships. \n",
    "\n",
    "______________________________________________________________________________________________________________________\n",
    "\n",
    "\n"
   ]
  },
  {
   "cell_type": "markdown",
   "metadata": {},
   "source": [
    "# Process\n",
    "\n",
    "### To start we will partition the score into 1/8 recency, 1/8 consistency, and 3/4 quantity/correlation. \n",
    "### *We will focus on the type variables steps, weight, sleep, HR\n",
    "\n",
    "Note: This splitting is arbitrary in nature and will be changed as we test our score. "
   ]
  },
  {
   "cell_type": "markdown",
   "metadata": {},
   "source": [
    "#### *This next cell just initializes our environment.* "
   ]
  },
  {
   "cell_type": "code",
   "execution_count": 20,
   "metadata": {},
   "outputs": [],
   "source": [
    "import seaborn as sns\n",
    "import csv\n",
    "import numpy as np\n",
    "import pandas as pd\n",
    "import matplotlib.pyplot as plt\n",
    "from scipy import stats\n",
    "from sklearn import linear_model\n",
    "import itertools\n",
    "import calendar\n",
    "%matplotlib inline\n",
    "sns.set()\n",
    "import datetime\n",
    "import warnings\n",
    "\n",
    "data_sample = pd.read_csv('20171016-210106-DataSample.csv',dtype={\"value\": float})\n",
    "data_sample2 = pd.read_csv('20171016-210304-DataSample.csv',dtype={\"value\": float})\n",
    "data_sample3 = pd.read_csv('20171016-210529-DataSample.csv',dtype={\"value\": float})\n",
    "data_sample4 = pd.read_csv('20171031-235959-DataSample.csv',dtype={\"value\": float})\n",
    "\n",
    "\n",
    "\n",
    "data_sample = data_sample.append([data_sample2,data_sample3,data_sample4])\n",
    "data_sample['startDate'] = pd.to_datetime(data_sample['startDate']) \n",
    "data_sample['owner'].replace('00000000-5854-8d6f-b8eb-cf14a0f795df','00000000-56ff-538b-2223-e1800b5e3ddb',inplace=True)\n",
    "data_sample['startDate'] = pd.to_datetime(data_sample['startDate'])\n",
    "data_sample['endDate'] = pd.to_datetime(data_sample['endDate'])\n",
    "data_sample.index = data_sample['startDate']\n",
    "\n",
    "to_tdelta = lambda row: row['endDate'] - row['startDate']\n",
    "data_sample['duration'] = data_sample.apply(to_tdelta, axis=1)\n",
    "data_sample['day_of_week'] = data_sample['startDate'].dt.dayofweek\n"
   ]
  },
  {
   "cell_type": "markdown",
   "metadata": {},
   "source": [
    "## Recency\n",
    "\n",
    "### Method: We want to see whether or not a user's data is recent or not. We will take the total amount of a user's data, see when the data was initially tracked, and see how much of that data exists within the last 60 days. \n",
    "\n",
    "Example: User X has 100 points of data for sleep over 2 years of collected data. However 99% of this data was before the past 60 days. This is bad. "
   ]
  },
  {
   "cell_type": "markdown",
   "metadata": {},
   "source": [
    "### Aydin, Luqmaan -> Calculate a score out of a 100. A 100 for a type would be a user who's data in the past 60 days is equal to or greater than 60 days / total time interval data has been collected. \n",
    "\n",
    "## Formula: (x/y) * (z/60) = type recency score  \n",
    "\n",
    "### x -> amount of data in last 60 days \n",
    "### y -> total amount of data \n",
    "### z -> total days that their data was collected\n",
    "\n",
    "## After doing this for each type you will have a few scores, average them for a final score\n",
    "\n",
    "\n",
    "Example: User has 100 points of data over past 120 days, 50 points of data are in past 60 days. Score of 100. "
   ]
  },
  {
   "cell_type": "code",
   "execution_count": null,
   "metadata": {
    "collapsed": true
   },
   "outputs": [],
   "source": []
  },
  {
   "cell_type": "code",
   "execution_count": null,
   "metadata": {
    "collapsed": true
   },
   "outputs": [],
   "source": []
  },
  {
   "cell_type": "markdown",
   "metadata": {},
   "source": [
    "## Consistency\n",
    "\n",
    "### Method: We want to see how consistent the collection of a user's data is. For variables that we want to compare on certain intervals, we want to know how much data we're \"losing\". \n",
    "\n",
    "Example: User X has 1000 points of HR, and 500 points of step count, however, on a very large number of days where he measured his step counts, he didn't measure his heart rate. Or on those days he did not record his amount of sleep. This data is essentially difficult to use, as this could have profound effects on the correlations we find. "
   ]
  },
  {
   "cell_type": "markdown",
   "metadata": {},
   "source": [
    "### Matt -> Calculate out a score 0-100 grading the consistency of a user's data. \n",
    "#### Do this for each type, and average them out. \n",
    "#### Note the different types of variables will have varying intervals of time, so for weight you wouldn't really care if they measure every day, but if you had a month's worth of user activity, but no weight measurement's during that time, that is bad. Or if all 4 of their weight measurements were in the last 2 weeks out of 4 months.\n",
    "\n",
    "#### There's a lot of freedom on this, let me know if you have any questions or anything\n"
   ]
  },
  {
   "cell_type": "code",
   "execution_count": null,
   "metadata": {
    "collapsed": true
   },
   "outputs": [],
   "source": []
  },
  {
   "cell_type": "code",
   "execution_count": null,
   "metadata": {
    "collapsed": true
   },
   "outputs": [],
   "source": []
  },
  {
   "cell_type": "markdown",
   "metadata": {},
   "source": [
    "## Quantity/Correlation Strength \n",
    "\n",
    "### Method: We essentially want to see if this user's data is telling us anything. Can we find correlations, patterns in the data, and how confident can we be in those correlations. We look into the different combinations of the variables, see how many we can find strong results\n",
    "\n",
    "Example: User X has stellar correlations, we find strong patterns in all the variable combinations, small p-values for each of them, high score. "
   ]
  },
  {
   "cell_type": "markdown",
   "metadata": {},
   "source": [
    "### Lucas, Sebastian, John -> We want to look at what the chance is that the correlations that we are finding are \"random\" or not. We can use p-values across the different combinations, see how many we can be fairly confident in, and create a score from that. "
   ]
  },
  {
   "cell_type": "code",
   "execution_count": null,
   "metadata": {
    "collapsed": true
   },
   "outputs": [],
   "source": [
    "Correlations to make \n",
    "- HR by Steps\n",
    "- Steps by Sleep \n",
    "- Weight by Steps\n",
    "- Weight by Sleep \n",
    "- HR by Sleep "
   ]
  },
  {
   "cell_type": "code",
   "execution_count": 14,
   "metadata": {
    "collapsed": true
   },
   "outputs": [],
   "source": [
    "def prepare_table(x, y,time='D',data_sample=data_sample):\n",
    "    steps = data_sample[data_sample['type'] == x]\n",
    "    bodyfat = data_sample[data_sample['type'] == y]\n",
    "\n",
    "\n",
    "    steps.index = steps['startDate']\n",
    "    bodyfat.index = bodyfat['startDate']\n",
    "\n",
    "\n",
    "    steps['value'] = pd.to_numeric(steps['value'])\n",
    "    steps = steps.loc[:,'value']\n",
    "    if x == 'health-step-count':\n",
    "        steps = steps.resample(time).sum()\n",
    "    else:\n",
    "        steps = steps.resample(time).mean()\n",
    "\n",
    "\n",
    "    bodyfat['value'] = pd.to_numeric(bodyfat['value'])\n",
    "    bodyfat = bodyfat.loc[:,'value']\n",
    "    bodyfat = bodyfat.resample(time).mean()\n",
    "\n",
    "    steps = steps.to_frame('first')\n",
    "    steps['second'] = bodyfat\n",
    "    \n",
    "    return steps"
   ]
  },
  {
   "cell_type": "code",
   "execution_count": 15,
   "metadata": {
    "collapsed": true
   },
   "outputs": [],
   "source": [
    "def plotter(steps):\n",
    "    steps = steps.dropna()\n",
    "    x = steps['first'].values\n",
    "    y = steps['second'].values\n",
    "    x = x.reshape(len(x), 1)\n",
    "    y = y.reshape(len(x), 1)\n",
    "    if not (x.shape == (0, 1) or y.shape == (0, 1)):\n",
    "        regr = linear_model.LinearRegression()\n",
    "        regr.fit(x, y)\n",
    "\n",
    "        # plot it as in the example at http://scikit-learn.org/\n",
    "        plt.scatter(x, y,  color='black')\n",
    "        plt.plot(x, regr.predict(x), color='yellow', linewidth=2)\n",
    "\n",
    "        corr_info = stats.stats.pearsonr(x, y)\n",
    "        r = corr_info[0][0]\n",
    "        if corr_info[1] == 0.0:\n",
    "            p = corr_info[1]\n",
    "        else:\n",
    "            p = corr_info[1][0]\n",
    "        return r, p\n",
    "    else:\n",
    "        return -5, -5"
   ]
  },
  {
   "cell_type": "code",
   "execution_count": 26,
   "metadata": {},
   "outputs": [
    {
     "name": "stderr",
     "output_type": "stream",
     "text": [
      "C:\\ProgramData\\Anaconda2\\lib\\site-packages\\ipykernel_launcher.py:10: SettingWithCopyWarning: \n",
      "A value is trying to be set on a copy of a slice from a DataFrame.\n",
      "Try using .loc[row_indexer,col_indexer] = value instead\n",
      "\n",
      "See the caveats in the documentation: http://pandas.pydata.org/pandas-docs/stable/indexing.html#indexing-view-versus-copy\n",
      "  # Remove the CWD from sys.path while we load stuff.\n",
      "C:\\ProgramData\\Anaconda2\\lib\\site-packages\\ipykernel_launcher.py:18: SettingWithCopyWarning: \n",
      "A value is trying to be set on a copy of a slice from a DataFrame.\n",
      "Try using .loc[row_indexer,col_indexer] = value instead\n",
      "\n",
      "See the caveats in the documentation: http://pandas.pydata.org/pandas-docs/stable/indexing.html#indexing-view-versus-copy\n"
     ]
    },
    {
     "name": "stdout",
     "output_type": "stream",
     "text": [
      "For Owner 00000000-56ff-538b-2223-e1800b5e3ddb: r is 0.234298508068 and p 0.0509081382523\n"
     ]
    },
    {
     "data": {
      "image/png": "[encoded data removed]",
      "text/plain": [
       "<matplotlib.figure.Figure at 0x1d466a90>"
      ]
     },
     "metadata": {},
     "output_type": "display_data"
    },
    {
     "name": "stdout",
     "output_type": "stream",
     "text": [
      "For Owner 00000000-5851-ee08-eb34-e20acc5af74e: r is 0.566027743159 and p 0.0074792955221\n"
     ]
    },
    {
     "data": {
      "image/png": "[encoded data removed]",
      "text/plain": [
       "<matplotlib.figure.Figure at 0xa73e080>"
      ]
     },
     "metadata": {},
     "output_type": "display_data"
    },
    {
     "name": "stdout",
     "output_type": "stream",
     "text": [
      "For Owner d145b032-b7a5-4fa8-9887-b46598f4683a: r is nan and p nan\n"
     ]
    },
    {
     "data": {
      "image/png": "[encoded data removed]",
      "text/plain": [
       "<matplotlib.figure.Figure at 0x16d80e80>"
      ]
     },
     "metadata": {},
     "output_type": "display_data"
    },
    {
     "name": "stdout",
     "output_type": "stream",
     "text": [
      "For Owner00000000-5951-4787-2497-ae32dc8d07d4: Not enough data points\n",
      "For Owner 00000000-584d-a4f0-bdee-d4102b989ce5: r is 0.214218635229 and p 0.683587253434\n"
     ]
    },
    {
     "data": {
      "image/png": "[encoded data removed]",
      "text/plain": [
       "<matplotlib.figure.Figure at 0xa71d4e0>"
      ]
     },
     "metadata": {},
     "output_type": "display_data"
    },
    {
     "name": "stdout",
     "output_type": "stream",
     "text": [
      "For Owner00000000-584e-1f39-bdee-d4102b989d01: Not enough data points\n"
     ]
    }
   ],
   "source": [
    "for owner in data_sample['owner'].unique():\n",
    "    frame1 = prepare_table(\"health-step-count\", \"health-weight\", 'W', data_sample[data_sample['owner'] == owner])\n",
    "    r, p = plotter(frame1)\n",
    "    if r != -5:\n",
    "        print(\"For Owner {}: r is {} and p {}\".format(owner, r, p))\n",
    "    else:\n",
    "        print(\"For Owner{}: Not enough data points\".format(owner))\n",
    "    plt.show()\n",
    "    "
   ]
  },
  {
   "cell_type": "markdown",
   "metadata": {},
   "source": [
    "## Testing \n",
    "\n",
    "### After creating our score we will want to be able test how accurate they are. \n",
    "### TO BE CONTINUED"
   ]
  },
  {
   "cell_type": "code",
   "execution_count": null,
   "metadata": {
    "collapsed": true
   },
   "outputs": [],
   "source": []
  },
  {
   "cell_type": "code",
   "execution_count": null,
   "metadata": {
    "collapsed": true
   },
   "outputs": [],
   "source": []
  }
 ],
 "metadata": {
  "kernelspec": {
   "display_name": "Python 2",
   "language": "python",
   "name": "python2"
  },
  "language_info": {
   "codemirror_mode": {
    "name": "ipython",
    "version": 2
   },
   "file_extension": ".py",
   "mimetype": "text/x-python",
   "name": "python",
   "nbconvert_exporter": "python",
   "pygments_lexer": "ipython2",
   "version": "2.7.13"
  }
 },
 "nbformat": 4,
 "nbformat_minor": 2
}
